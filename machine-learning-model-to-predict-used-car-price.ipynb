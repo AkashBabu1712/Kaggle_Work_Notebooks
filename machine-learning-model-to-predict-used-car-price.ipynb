{
 "cells": [
  {
   "cell_type": "code",
   "execution_count": 1,
   "id": "f2e00a48",
   "metadata": {
    "_cell_guid": "b1076dfc-b9ad-4769-8c92-a6c4dae69d19",
    "_uuid": "8f2839f25d086af736a60e9eeb907d3b93b6e0e5",
    "execution": {
     "iopub.execute_input": "2024-09-15T14:19:55.075190Z",
     "iopub.status.busy": "2024-09-15T14:19:55.074904Z",
     "iopub.status.idle": "2024-09-15T14:19:55.762203Z",
     "shell.execute_reply": "2024-09-15T14:19:55.761086Z"
    },
    "papermill": {
     "duration": 0.701044,
     "end_time": "2024-09-15T14:19:55.764419",
     "exception": false,
     "start_time": "2024-09-15T14:19:55.063375",
     "status": "completed"
    },
    "tags": []
   },
   "outputs": [
    {
     "name": "stdout",
     "output_type": "stream",
     "text": [
      "/kaggle/input/playground-series-s4e9/sample_submission.csv\n",
      "/kaggle/input/playground-series-s4e9/train.csv\n",
      "/kaggle/input/playground-series-s4e9/test.csv\n"
     ]
    }
   ],
   "source": [
    "# This Python 3 environment comes with many helpful analytics libraries installed\n",
    "# It is defined by the kaggle/python Docker image: https://github.com/kaggle/docker-python\n",
    "# For example, here's several helpful packages to load\n",
    "\n",
    "import numpy as np # linear algebra\n",
    "import pandas as pd # data processing, CSV file I/O (e.g. pd.read_csv)\n",
    "\n",
    "# Input data files are available in the read-only \"../input/\" directory\n",
    "# For example, running this (by clicking run or pressing Shift+Enter) will list all files under the input directory\n",
    "\n",
    "import os\n",
    "for dirname, _, filenames in os.walk('/kaggle/input'):\n",
    "    for filename in filenames:\n",
    "        print(os.path.join(dirname, filename))\n",
    "\n",
    "# You can write up to 20GB to the current directory (/kaggle/working/) that gets preserved as output when you create a version using \"Save & Run All\" \n",
    "# You can also write temporary files to /kaggle/temp/, but they won't be saved outside of the current session"
   ]
  },
  {
   "cell_type": "code",
   "execution_count": 2,
   "id": "b6d51f4a",
   "metadata": {
    "execution": {
     "iopub.execute_input": "2024-09-15T14:19:55.785954Z",
     "iopub.status.busy": "2024-09-15T14:19:55.785543Z",
     "iopub.status.idle": "2024-09-15T14:19:55.789538Z",
     "shell.execute_reply": "2024-09-15T14:19:55.788696Z"
    },
    "papermill": {
     "duration": 0.016633,
     "end_time": "2024-09-15T14:19:55.791483",
     "exception": false,
     "start_time": "2024-09-15T14:19:55.774850",
     "status": "completed"
    },
    "tags": []
   },
   "outputs": [],
   "source": [
    "import warnings\n",
    "# Ignore all warnings\n",
    "warnings.filterwarnings('ignore')"
   ]
  },
  {
   "cell_type": "markdown",
   "id": "fca7d7e8",
   "metadata": {
    "papermill": {
     "duration": 0.009544,
     "end_time": "2024-09-15T14:19:55.810699",
     "exception": false,
     "start_time": "2024-09-15T14:19:55.801155",
     "status": "completed"
    },
    "tags": []
   },
   "source": [
    "## 1. Load the Dataset"
   ]
  },
  {
   "cell_type": "code",
   "execution_count": 3,
   "id": "25bad217",
   "metadata": {
    "execution": {
     "iopub.execute_input": "2024-09-15T14:19:55.831038Z",
     "iopub.status.busy": "2024-09-15T14:19:55.830713Z",
     "iopub.status.idle": "2024-09-15T14:19:57.073913Z",
     "shell.execute_reply": "2024-09-15T14:19:57.073049Z"
    },
    "papermill": {
     "duration": 1.256331,
     "end_time": "2024-09-15T14:19:57.076655",
     "exception": false,
     "start_time": "2024-09-15T14:19:55.820324",
     "status": "completed"
    },
    "tags": []
   },
   "outputs": [],
   "source": [
    "import pandas as pd\n",
    "\n",
    "# Load the datasets\n",
    "train_data = pd.read_csv('/kaggle/input/playground-series-s4e9/train.csv')  # Assuming train.csv contains training data\n",
    "test_data = pd.read_csv('/kaggle/input/playground-series-s4e9/test.csv')    # Assuming test.csv contains test data\n"
   ]
  },
  {
   "cell_type": "code",
   "execution_count": 4,
   "id": "be422ce1",
   "metadata": {
    "execution": {
     "iopub.execute_input": "2024-09-15T14:19:57.098435Z",
     "iopub.status.busy": "2024-09-15T14:19:57.097572Z",
     "iopub.status.idle": "2024-09-15T14:19:57.127996Z",
     "shell.execute_reply": "2024-09-15T14:19:57.127147Z"
    },
    "papermill": {
     "duration": 0.043125,
     "end_time": "2024-09-15T14:19:57.129950",
     "exception": false,
     "start_time": "2024-09-15T14:19:57.086825",
     "status": "completed"
    },
    "tags": []
   },
   "outputs": [
    {
     "data": {
      "text/html": [
       "<div>\n",
       "<style scoped>\n",
       "    .dataframe tbody tr th:only-of-type {\n",
       "        vertical-align: middle;\n",
       "    }\n",
       "\n",
       "    .dataframe tbody tr th {\n",
       "        vertical-align: top;\n",
       "    }\n",
       "\n",
       "    .dataframe thead th {\n",
       "        text-align: right;\n",
       "    }\n",
       "</style>\n",
       "<table border=\"1\" class=\"dataframe\">\n",
       "  <thead>\n",
       "    <tr style=\"text-align: right;\">\n",
       "      <th></th>\n",
       "      <th>id</th>\n",
       "      <th>brand</th>\n",
       "      <th>model</th>\n",
       "      <th>model_year</th>\n",
       "      <th>milage</th>\n",
       "      <th>fuel_type</th>\n",
       "      <th>engine</th>\n",
       "      <th>transmission</th>\n",
       "      <th>ext_col</th>\n",
       "      <th>int_col</th>\n",
       "      <th>accident</th>\n",
       "      <th>clean_title</th>\n",
       "      <th>price</th>\n",
       "    </tr>\n",
       "  </thead>\n",
       "  <tbody>\n",
       "    <tr>\n",
       "      <th>141508</th>\n",
       "      <td>141508</td>\n",
       "      <td>Lexus</td>\n",
       "      <td>RX 350 F Sport Performance</td>\n",
       "      <td>2016</td>\n",
       "      <td>123256</td>\n",
       "      <td>Gasoline</td>\n",
       "      <td>295.0HP 3.5L V6 Cylinder Engine Gasoline Fuel</td>\n",
       "      <td>A/T</td>\n",
       "      <td>Black</td>\n",
       "      <td>Black</td>\n",
       "      <td>None reported</td>\n",
       "      <td>Yes</td>\n",
       "      <td>18500</td>\n",
       "    </tr>\n",
       "    <tr>\n",
       "      <th>181856</th>\n",
       "      <td>181856</td>\n",
       "      <td>Land</td>\n",
       "      <td>Rover Range Rover Sport HST MHEV</td>\n",
       "      <td>2023</td>\n",
       "      <td>4126</td>\n",
       "      <td>Hybrid</td>\n",
       "      <td>395.0HP 3.0L Straight 6 Cylinder Engine Gasoli...</td>\n",
       "      <td>Transmission w/Dual Shift Mode</td>\n",
       "      <td>Gray</td>\n",
       "      <td>Black</td>\n",
       "      <td>None reported</td>\n",
       "      <td>Yes</td>\n",
       "      <td>117500</td>\n",
       "    </tr>\n",
       "    <tr>\n",
       "      <th>94865</th>\n",
       "      <td>94865</td>\n",
       "      <td>GMC</td>\n",
       "      <td>Acadia Denali</td>\n",
       "      <td>2016</td>\n",
       "      <td>89000</td>\n",
       "      <td>Gasoline</td>\n",
       "      <td>288.0HP 3.6L V6 Cylinder Engine Gasoline Fuel</td>\n",
       "      <td>A/T</td>\n",
       "      <td>White</td>\n",
       "      <td>Beige</td>\n",
       "      <td>None reported</td>\n",
       "      <td>Yes</td>\n",
       "      <td>19500</td>\n",
       "    </tr>\n",
       "    <tr>\n",
       "      <th>100449</th>\n",
       "      <td>100449</td>\n",
       "      <td>BMW</td>\n",
       "      <td>340 i</td>\n",
       "      <td>2015</td>\n",
       "      <td>76465</td>\n",
       "      <td>Gasoline</td>\n",
       "      <td>320.0HP 3.0L Straight 6 Cylinder Engine Gasoli...</td>\n",
       "      <td>6-Speed M/T</td>\n",
       "      <td>Black</td>\n",
       "      <td>Black</td>\n",
       "      <td>None reported</td>\n",
       "      <td>Yes</td>\n",
       "      <td>29000</td>\n",
       "    </tr>\n",
       "    <tr>\n",
       "      <th>68395</th>\n",
       "      <td>68395</td>\n",
       "      <td>Porsche</td>\n",
       "      <td>Panamera Turbo</td>\n",
       "      <td>2018</td>\n",
       "      <td>7458</td>\n",
       "      <td>Gasoline</td>\n",
       "      <td>550.0HP 4.8L 8 Cylinder Engine Gasoline Fuel</td>\n",
       "      <td>8-Speed A/T</td>\n",
       "      <td>Red</td>\n",
       "      <td>Red</td>\n",
       "      <td>None reported</td>\n",
       "      <td>NaN</td>\n",
       "      <td>162950</td>\n",
       "    </tr>\n",
       "  </tbody>\n",
       "</table>\n",
       "</div>"
      ],
      "text/plain": [
       "            id    brand                             model  model_year  milage  \\\n",
       "141508  141508    Lexus        RX 350 F Sport Performance        2016  123256   \n",
       "181856  181856     Land  Rover Range Rover Sport HST MHEV        2023    4126   \n",
       "94865    94865      GMC                     Acadia Denali        2016   89000   \n",
       "100449  100449      BMW                             340 i        2015   76465   \n",
       "68395    68395  Porsche                    Panamera Turbo        2018    7458   \n",
       "\n",
       "       fuel_type                                             engine  \\\n",
       "141508  Gasoline      295.0HP 3.5L V6 Cylinder Engine Gasoline Fuel   \n",
       "181856    Hybrid  395.0HP 3.0L Straight 6 Cylinder Engine Gasoli...   \n",
       "94865   Gasoline      288.0HP 3.6L V6 Cylinder Engine Gasoline Fuel   \n",
       "100449  Gasoline  320.0HP 3.0L Straight 6 Cylinder Engine Gasoli...   \n",
       "68395   Gasoline       550.0HP 4.8L 8 Cylinder Engine Gasoline Fuel   \n",
       "\n",
       "                          transmission ext_col int_col       accident  \\\n",
       "141508                             A/T   Black   Black  None reported   \n",
       "181856  Transmission w/Dual Shift Mode    Gray   Black  None reported   \n",
       "94865                              A/T   White   Beige  None reported   \n",
       "100449                     6-Speed M/T   Black   Black  None reported   \n",
       "68395                      8-Speed A/T     Red     Red  None reported   \n",
       "\n",
       "       clean_title   price  \n",
       "141508         Yes   18500  \n",
       "181856         Yes  117500  \n",
       "94865          Yes   19500  \n",
       "100449         Yes   29000  \n",
       "68395          NaN  162950  "
      ]
     },
     "execution_count": 4,
     "metadata": {},
     "output_type": "execute_result"
    }
   ],
   "source": [
    "train_data.sample(5)"
   ]
  },
  {
   "cell_type": "code",
   "execution_count": 5,
   "id": "fee0d5f7",
   "metadata": {
    "execution": {
     "iopub.execute_input": "2024-09-15T14:19:57.151587Z",
     "iopub.status.busy": "2024-09-15T14:19:57.151291Z",
     "iopub.status.idle": "2024-09-15T14:19:57.168635Z",
     "shell.execute_reply": "2024-09-15T14:19:57.167801Z"
    },
    "papermill": {
     "duration": 0.03025,
     "end_time": "2024-09-15T14:19:57.170523",
     "exception": false,
     "start_time": "2024-09-15T14:19:57.140273",
     "status": "completed"
    },
    "tags": []
   },
   "outputs": [
    {
     "data": {
      "text/html": [
       "<div>\n",
       "<style scoped>\n",
       "    .dataframe tbody tr th:only-of-type {\n",
       "        vertical-align: middle;\n",
       "    }\n",
       "\n",
       "    .dataframe tbody tr th {\n",
       "        vertical-align: top;\n",
       "    }\n",
       "\n",
       "    .dataframe thead th {\n",
       "        text-align: right;\n",
       "    }\n",
       "</style>\n",
       "<table border=\"1\" class=\"dataframe\">\n",
       "  <thead>\n",
       "    <tr style=\"text-align: right;\">\n",
       "      <th></th>\n",
       "      <th>id</th>\n",
       "      <th>brand</th>\n",
       "      <th>model</th>\n",
       "      <th>model_year</th>\n",
       "      <th>milage</th>\n",
       "      <th>fuel_type</th>\n",
       "      <th>engine</th>\n",
       "      <th>transmission</th>\n",
       "      <th>ext_col</th>\n",
       "      <th>int_col</th>\n",
       "      <th>accident</th>\n",
       "      <th>clean_title</th>\n",
       "    </tr>\n",
       "  </thead>\n",
       "  <tbody>\n",
       "    <tr>\n",
       "      <th>107763</th>\n",
       "      <td>296296</td>\n",
       "      <td>Mercedes-Benz</td>\n",
       "      <td>E-Class E 350</td>\n",
       "      <td>2014</td>\n",
       "      <td>59400</td>\n",
       "      <td>Gasoline</td>\n",
       "      <td>302.0HP 3.5L V6 Cylinder Engine Gasoline Fuel</td>\n",
       "      <td>A/T</td>\n",
       "      <td>White</td>\n",
       "      <td>Beige</td>\n",
       "      <td>At least 1 accident or damage reported</td>\n",
       "      <td>Yes</td>\n",
       "    </tr>\n",
       "    <tr>\n",
       "      <th>106713</th>\n",
       "      <td>295246</td>\n",
       "      <td>Mercedes-Benz</td>\n",
       "      <td>AMG GLE 43 Coupe 4MATIC</td>\n",
       "      <td>2018</td>\n",
       "      <td>12000</td>\n",
       "      <td>Gasoline</td>\n",
       "      <td>385.0HP 3.0L V6 Cylinder Engine Gasoline Fuel</td>\n",
       "      <td>9-Speed A/T</td>\n",
       "      <td>White</td>\n",
       "      <td>Brown</td>\n",
       "      <td>None reported</td>\n",
       "      <td>Yes</td>\n",
       "    </tr>\n",
       "    <tr>\n",
       "      <th>63747</th>\n",
       "      <td>252280</td>\n",
       "      <td>Mercedes-Benz</td>\n",
       "      <td>GLC 300 GLC 300</td>\n",
       "      <td>2022</td>\n",
       "      <td>41545</td>\n",
       "      <td>Gasoline</td>\n",
       "      <td>2.0 Liter Turbo</td>\n",
       "      <td>Automatic</td>\n",
       "      <td>Graphite Grey</td>\n",
       "      <td>–</td>\n",
       "      <td>None reported</td>\n",
       "      <td>NaN</td>\n",
       "    </tr>\n",
       "    <tr>\n",
       "      <th>64878</th>\n",
       "      <td>253411</td>\n",
       "      <td>Porsche</td>\n",
       "      <td>911 Carrera S</td>\n",
       "      <td>2013</td>\n",
       "      <td>40800</td>\n",
       "      <td>Gasoline</td>\n",
       "      <td>385.0HP 3.8L Flat 6 Cylinder Engine Gasoline Fuel</td>\n",
       "      <td>7-Speed A/T</td>\n",
       "      <td>Silver</td>\n",
       "      <td>Black</td>\n",
       "      <td>None reported</td>\n",
       "      <td>Yes</td>\n",
       "    </tr>\n",
       "    <tr>\n",
       "      <th>68319</th>\n",
       "      <td>256852</td>\n",
       "      <td>Toyota</td>\n",
       "      <td>Camry Solara SLE V6</td>\n",
       "      <td>2006</td>\n",
       "      <td>199400</td>\n",
       "      <td>Gasoline</td>\n",
       "      <td>225.0HP 3.3L V6 Cylinder Engine Gasoline Fuel</td>\n",
       "      <td>A/T</td>\n",
       "      <td>White</td>\n",
       "      <td>Beige</td>\n",
       "      <td>At least 1 accident or damage reported</td>\n",
       "      <td>Yes</td>\n",
       "    </tr>\n",
       "  </tbody>\n",
       "</table>\n",
       "</div>"
      ],
      "text/plain": [
       "            id          brand                    model  model_year  milage  \\\n",
       "107763  296296  Mercedes-Benz            E-Class E 350        2014   59400   \n",
       "106713  295246  Mercedes-Benz  AMG GLE 43 Coupe 4MATIC        2018   12000   \n",
       "63747   252280  Mercedes-Benz          GLC 300 GLC 300        2022   41545   \n",
       "64878   253411        Porsche            911 Carrera S        2013   40800   \n",
       "68319   256852         Toyota      Camry Solara SLE V6        2006  199400   \n",
       "\n",
       "       fuel_type                                             engine  \\\n",
       "107763  Gasoline      302.0HP 3.5L V6 Cylinder Engine Gasoline Fuel   \n",
       "106713  Gasoline      385.0HP 3.0L V6 Cylinder Engine Gasoline Fuel   \n",
       "63747   Gasoline                                    2.0 Liter Turbo   \n",
       "64878   Gasoline  385.0HP 3.8L Flat 6 Cylinder Engine Gasoline Fuel   \n",
       "68319   Gasoline      225.0HP 3.3L V6 Cylinder Engine Gasoline Fuel   \n",
       "\n",
       "       transmission        ext_col int_col  \\\n",
       "107763          A/T          White   Beige   \n",
       "106713  9-Speed A/T          White   Brown   \n",
       "63747     Automatic  Graphite Grey       –   \n",
       "64878   7-Speed A/T         Silver   Black   \n",
       "68319           A/T          White   Beige   \n",
       "\n",
       "                                      accident clean_title  \n",
       "107763  At least 1 accident or damage reported         Yes  \n",
       "106713                           None reported         Yes  \n",
       "63747                            None reported         NaN  \n",
       "64878                            None reported         Yes  \n",
       "68319   At least 1 accident or damage reported         Yes  "
      ]
     },
     "execution_count": 5,
     "metadata": {},
     "output_type": "execute_result"
    }
   ],
   "source": [
    "test_data.sample(5)"
   ]
  },
  {
   "cell_type": "markdown",
   "id": "04521d54",
   "metadata": {
    "papermill": {
     "duration": 0.010015,
     "end_time": "2024-09-15T14:19:57.191031",
     "exception": false,
     "start_time": "2024-09-15T14:19:57.181016",
     "status": "completed"
    },
    "tags": []
   },
   "source": [
    "## 2. Data Preprocessing"
   ]
  },
  {
   "cell_type": "markdown",
   "id": "dc0a88bd",
   "metadata": {
    "papermill": {
     "duration": 0.01032,
     "end_time": "2024-09-15T14:19:57.211577",
     "exception": false,
     "start_time": "2024-09-15T14:19:57.201257",
     "status": "completed"
    },
    "tags": []
   },
   "source": [
    "### Handling missing values"
   ]
  },
  {
   "cell_type": "code",
   "execution_count": 6,
   "id": "293eb033",
   "metadata": {
    "execution": {
     "iopub.execute_input": "2024-09-15T14:19:57.233281Z",
     "iopub.status.busy": "2024-09-15T14:19:57.232967Z",
     "iopub.status.idle": "2024-09-15T14:19:57.389087Z",
     "shell.execute_reply": "2024-09-15T14:19:57.387656Z"
    },
    "papermill": {
     "duration": 0.169092,
     "end_time": "2024-09-15T14:19:57.391002",
     "exception": false,
     "start_time": "2024-09-15T14:19:57.221910",
     "status": "completed"
    },
    "tags": []
   },
   "outputs": [
    {
     "name": "stdout",
     "output_type": "stream",
     "text": [
      "id                  0\n",
      "brand               0\n",
      "model               0\n",
      "model_year          0\n",
      "milage              0\n",
      "fuel_type        5083\n",
      "engine              0\n",
      "transmission        0\n",
      "ext_col             0\n",
      "int_col             0\n",
      "accident         2452\n",
      "clean_title     21419\n",
      "price               0\n",
      "dtype: int64\n"
     ]
    }
   ],
   "source": [
    "# Check for missing values\n",
    "print(train_data.isnull().sum())"
   ]
  },
  {
   "cell_type": "code",
   "execution_count": 7,
   "id": "6e981a99",
   "metadata": {
    "execution": {
     "iopub.execute_input": "2024-09-15T14:19:57.412982Z",
     "iopub.status.busy": "2024-09-15T14:19:57.412612Z",
     "iopub.status.idle": "2024-09-15T14:19:57.568364Z",
     "shell.execute_reply": "2024-09-15T14:19:57.567252Z"
    },
    "papermill": {
     "duration": 0.168889,
     "end_time": "2024-09-15T14:19:57.570309",
     "exception": false,
     "start_time": "2024-09-15T14:19:57.401420",
     "status": "completed"
    },
    "tags": []
   },
   "outputs": [
    {
     "name": "stdout",
     "output_type": "stream",
     "text": [
      "id               0.000000\n",
      "brand            0.000000\n",
      "model            0.000000\n",
      "model_year       0.000000\n",
      "milage           0.000000\n",
      "fuel_type        2.696080\n",
      "engine           0.000000\n",
      "transmission     0.000000\n",
      "ext_col          0.000000\n",
      "int_col          0.000000\n",
      "accident         1.300568\n",
      "clean_title     11.360876\n",
      "price            0.000000\n",
      "dtype: float64\n"
     ]
    }
   ],
   "source": [
    "# Check for percentage of  missing values\n",
    "print(train_data.isnull().sum()*100/len(train_data))\n"
   ]
  },
  {
   "cell_type": "code",
   "execution_count": 8,
   "id": "e92dfe93",
   "metadata": {
    "execution": {
     "iopub.execute_input": "2024-09-15T14:19:57.592423Z",
     "iopub.status.busy": "2024-09-15T14:19:57.592132Z",
     "iopub.status.idle": "2024-09-15T14:19:57.595660Z",
     "shell.execute_reply": "2024-09-15T14:19:57.594869Z"
    },
    "papermill": {
     "duration": 0.016754,
     "end_time": "2024-09-15T14:19:57.597604",
     "exception": false,
     "start_time": "2024-09-15T14:19:57.580850",
     "status": "completed"
    },
    "tags": []
   },
   "outputs": [],
   "source": [
    "# Impute missing values for numerical features\n",
    "#train_data.fillna(train_data.median(), inplace=True)\n",
    "\n",
    "# Impute missing values for categorical features\n",
    "#train_data.fillna(train_data.mode().iloc[0], inplace=True)\n"
   ]
  },
  {
   "cell_type": "markdown",
   "id": "64634cb1",
   "metadata": {
    "papermill": {
     "duration": 0.010517,
     "end_time": "2024-09-15T14:19:57.618643",
     "exception": false,
     "start_time": "2024-09-15T14:19:57.608126",
     "status": "completed"
    },
    "tags": []
   },
   "source": [
    "The error occurs because some columns in dataset are categorical (e.g., car make, model, fuel type, color, etc.), and the machine learning algorithm using expects numeric input. To fix this,we'll need to convert the categorical data into a numeric format that the model can handle.\n",
    "\n",
    "We can use either **Label Encoding** or **One-Hot Encoding** for this conversion depending on whether the categorical variable is *ordinal* or *nominal*.\n",
    "\n",
    "Here’s how we can correct the code by applying the appropriate encoding to the categorical features:\n",
    "\n",
    "**1. Label Encoding for Ordinal Categorical Variables**\n",
    "\n",
    "*For features that have a meaningful order (like 'low', 'medium', 'high'), use LabelEncoder.*\n",
    "\n",
    "**2. One-Hot Encoding for Nominal Categorical Variables**\n",
    "\n",
    "*For features that don’t have any specific order (like car brand, fuel type, etc.), use OneHotEncoder.*"
   ]
  },
  {
   "cell_type": "markdown",
   "id": "cf164057",
   "metadata": {
    "papermill": {
     "duration": 0.010104,
     "end_time": "2024-09-15T14:19:57.639186",
     "exception": false,
     "start_time": "2024-09-15T14:19:57.629082",
     "status": "completed"
    },
    "tags": []
   },
   "source": [
    "### Feature Encoding\n",
    "\n",
    "`Convert categorical features into numeric using one-hot encoding or label encoding`"
   ]
  },
  {
   "cell_type": "code",
   "execution_count": 9,
   "id": "1a54881f",
   "metadata": {
    "execution": {
     "iopub.execute_input": "2024-09-15T14:19:57.661006Z",
     "iopub.status.busy": "2024-09-15T14:19:57.660687Z",
     "iopub.status.idle": "2024-09-15T14:19:58.684898Z",
     "shell.execute_reply": "2024-09-15T14:19:58.683940Z"
    },
    "papermill": {
     "duration": 1.037614,
     "end_time": "2024-09-15T14:19:58.687165",
     "exception": false,
     "start_time": "2024-09-15T14:19:57.649551",
     "status": "completed"
    },
    "tags": []
   },
   "outputs": [
    {
     "data": {
      "text/plain": [
       "Index(['brand', 'model', 'fuel_type', 'engine', 'transmission', 'ext_col',\n",
       "       'int_col', 'accident', 'clean_title'],\n",
       "      dtype='object')"
      ]
     },
     "execution_count": 9,
     "metadata": {},
     "output_type": "execute_result"
    }
   ],
   "source": [
    "from sklearn.preprocessing import LabelEncoder, OneHotEncoder\n",
    "\n",
    "# Identify categorical columns\n",
    "categorical_cols = train_data.select_dtypes(include=['object']).columns\n",
    "categorical_cols\n"
   ]
  },
  {
   "cell_type": "code",
   "execution_count": 10,
   "id": "0869c052",
   "metadata": {
    "execution": {
     "iopub.execute_input": "2024-09-15T14:19:58.710020Z",
     "iopub.status.busy": "2024-09-15T14:19:58.709393Z",
     "iopub.status.idle": "2024-09-15T14:20:00.124861Z",
     "shell.execute_reply": "2024-09-15T14:20:00.123613Z"
    },
    "papermill": {
     "duration": 1.429907,
     "end_time": "2024-09-15T14:20:00.127915",
     "exception": false,
     "start_time": "2024-09-15T14:19:58.698008",
     "status": "completed"
    },
    "tags": []
   },
   "outputs": [],
   "source": [
    "# Apply OneHotEncoding for nominal categorical variables (e.g., car make, fuel type, etc.)\n",
    "train_data = pd.get_dummies(train_data, columns=categorical_cols, drop_first=True)\n",
    "test_data = pd.get_dummies(test_data, columns=categorical_cols, drop_first=True)"
   ]
  },
  {
   "cell_type": "markdown",
   "id": "cfc2bcb2",
   "metadata": {
    "papermill": {
     "duration": 0.011211,
     "end_time": "2024-09-15T14:20:00.153525",
     "exception": false,
     "start_time": "2024-09-15T14:20:00.142314",
     "status": "completed"
    },
    "tags": []
   },
   "source": [
    "**pd.get_dummies():** This function converts categorical columns into multiple binary (0/1) columns (one-hot encoding), which allows the model to interpret them.\n",
    "\n",
    "**drop_first=True:** Drops the first category to avoid multicollinearity.\n",
    "\n",
    "**Reindexing Test Data:** After applying one-hot encoding, the columns generated in the training and test sets may differ. Using reindex ensures that the test set has the same columns as the training set, with missing columns filled with zeros.\n",
    "\n",
    "**Handling Target Column in Test Data:** Since the test set does not have the price column, we remove it from the test set to avoid errors during prediction."
   ]
  },
  {
   "cell_type": "code",
   "execution_count": 11,
   "id": "9303fcd5",
   "metadata": {
    "execution": {
     "iopub.execute_input": "2024-09-15T14:20:00.178332Z",
     "iopub.status.busy": "2024-09-15T14:20:00.177995Z",
     "iopub.status.idle": "2024-09-15T14:20:00.203147Z",
     "shell.execute_reply": "2024-09-15T14:20:00.202334Z"
    },
    "papermill": {
     "duration": 0.04092,
     "end_time": "2024-09-15T14:20:00.205154",
     "exception": false,
     "start_time": "2024-09-15T14:20:00.164234",
     "status": "completed"
    },
    "tags": []
   },
   "outputs": [
    {
     "data": {
      "text/html": [
       "<div>\n",
       "<style scoped>\n",
       "    .dataframe tbody tr th:only-of-type {\n",
       "        vertical-align: middle;\n",
       "    }\n",
       "\n",
       "    .dataframe tbody tr th {\n",
       "        vertical-align: top;\n",
       "    }\n",
       "\n",
       "    .dataframe thead th {\n",
       "        text-align: right;\n",
       "    }\n",
       "</style>\n",
       "<table border=\"1\" class=\"dataframe\">\n",
       "  <thead>\n",
       "    <tr style=\"text-align: right;\">\n",
       "      <th></th>\n",
       "      <th>id</th>\n",
       "      <th>model_year</th>\n",
       "      <th>milage</th>\n",
       "      <th>price</th>\n",
       "      <th>brand_Alfa</th>\n",
       "      <th>brand_Aston</th>\n",
       "      <th>brand_Audi</th>\n",
       "      <th>brand_BMW</th>\n",
       "      <th>brand_Bentley</th>\n",
       "      <th>brand_Bugatti</th>\n",
       "      <th>...</th>\n",
       "      <th>int_col_Tupelo</th>\n",
       "      <th>int_col_Very Light Cashmere</th>\n",
       "      <th>int_col_WHITE</th>\n",
       "      <th>int_col_Walnut</th>\n",
       "      <th>int_col_Whisper Beige</th>\n",
       "      <th>int_col_White</th>\n",
       "      <th>int_col_White / Brown</th>\n",
       "      <th>int_col_Yellow</th>\n",
       "      <th>int_col_–</th>\n",
       "      <th>accident_None reported</th>\n",
       "    </tr>\n",
       "  </thead>\n",
       "  <tbody>\n",
       "    <tr>\n",
       "      <th>181817</th>\n",
       "      <td>181817</td>\n",
       "      <td>2016</td>\n",
       "      <td>94000</td>\n",
       "      <td>19500</td>\n",
       "      <td>False</td>\n",
       "      <td>False</td>\n",
       "      <td>False</td>\n",
       "      <td>False</td>\n",
       "      <td>False</td>\n",
       "      <td>False</td>\n",
       "      <td>...</td>\n",
       "      <td>False</td>\n",
       "      <td>False</td>\n",
       "      <td>False</td>\n",
       "      <td>False</td>\n",
       "      <td>False</td>\n",
       "      <td>False</td>\n",
       "      <td>False</td>\n",
       "      <td>False</td>\n",
       "      <td>False</td>\n",
       "      <td>True</td>\n",
       "    </tr>\n",
       "    <tr>\n",
       "      <th>19548</th>\n",
       "      <td>19548</td>\n",
       "      <td>2022</td>\n",
       "      <td>9000</td>\n",
       "      <td>54999</td>\n",
       "      <td>False</td>\n",
       "      <td>False</td>\n",
       "      <td>False</td>\n",
       "      <td>False</td>\n",
       "      <td>False</td>\n",
       "      <td>False</td>\n",
       "      <td>...</td>\n",
       "      <td>False</td>\n",
       "      <td>False</td>\n",
       "      <td>False</td>\n",
       "      <td>False</td>\n",
       "      <td>False</td>\n",
       "      <td>False</td>\n",
       "      <td>False</td>\n",
       "      <td>False</td>\n",
       "      <td>False</td>\n",
       "      <td>False</td>\n",
       "    </tr>\n",
       "    <tr>\n",
       "      <th>64723</th>\n",
       "      <td>64723</td>\n",
       "      <td>2010</td>\n",
       "      <td>149460</td>\n",
       "      <td>12500</td>\n",
       "      <td>False</td>\n",
       "      <td>False</td>\n",
       "      <td>False</td>\n",
       "      <td>False</td>\n",
       "      <td>False</td>\n",
       "      <td>False</td>\n",
       "      <td>...</td>\n",
       "      <td>False</td>\n",
       "      <td>False</td>\n",
       "      <td>False</td>\n",
       "      <td>False</td>\n",
       "      <td>False</td>\n",
       "      <td>False</td>\n",
       "      <td>False</td>\n",
       "      <td>False</td>\n",
       "      <td>False</td>\n",
       "      <td>True</td>\n",
       "    </tr>\n",
       "    <tr>\n",
       "      <th>14266</th>\n",
       "      <td>14266</td>\n",
       "      <td>2015</td>\n",
       "      <td>102200</td>\n",
       "      <td>31999</td>\n",
       "      <td>False</td>\n",
       "      <td>False</td>\n",
       "      <td>False</td>\n",
       "      <td>False</td>\n",
       "      <td>False</td>\n",
       "      <td>False</td>\n",
       "      <td>...</td>\n",
       "      <td>False</td>\n",
       "      <td>False</td>\n",
       "      <td>False</td>\n",
       "      <td>False</td>\n",
       "      <td>False</td>\n",
       "      <td>False</td>\n",
       "      <td>False</td>\n",
       "      <td>False</td>\n",
       "      <td>False</td>\n",
       "      <td>True</td>\n",
       "    </tr>\n",
       "    <tr>\n",
       "      <th>103109</th>\n",
       "      <td>103109</td>\n",
       "      <td>2022</td>\n",
       "      <td>10071</td>\n",
       "      <td>27999</td>\n",
       "      <td>False</td>\n",
       "      <td>False</td>\n",
       "      <td>True</td>\n",
       "      <td>False</td>\n",
       "      <td>False</td>\n",
       "      <td>False</td>\n",
       "      <td>...</td>\n",
       "      <td>False</td>\n",
       "      <td>False</td>\n",
       "      <td>False</td>\n",
       "      <td>False</td>\n",
       "      <td>False</td>\n",
       "      <td>False</td>\n",
       "      <td>False</td>\n",
       "      <td>False</td>\n",
       "      <td>False</td>\n",
       "      <td>True</td>\n",
       "    </tr>\n",
       "  </tbody>\n",
       "</table>\n",
       "<p>5 rows × 3603 columns</p>\n",
       "</div>"
      ],
      "text/plain": [
       "            id  model_year  milage  price  brand_Alfa  brand_Aston  \\\n",
       "181817  181817        2016   94000  19500       False        False   \n",
       "19548    19548        2022    9000  54999       False        False   \n",
       "64723    64723        2010  149460  12500       False        False   \n",
       "14266    14266        2015  102200  31999       False        False   \n",
       "103109  103109        2022   10071  27999       False        False   \n",
       "\n",
       "        brand_Audi  brand_BMW  brand_Bentley  brand_Bugatti  ...  \\\n",
       "181817       False      False          False          False  ...   \n",
       "19548        False      False          False          False  ...   \n",
       "64723        False      False          False          False  ...   \n",
       "14266        False      False          False          False  ...   \n",
       "103109        True      False          False          False  ...   \n",
       "\n",
       "        int_col_Tupelo  int_col_Very Light Cashmere  int_col_WHITE  \\\n",
       "181817           False                        False          False   \n",
       "19548            False                        False          False   \n",
       "64723            False                        False          False   \n",
       "14266            False                        False          False   \n",
       "103109           False                        False          False   \n",
       "\n",
       "        int_col_Walnut  int_col_Whisper Beige  int_col_White  \\\n",
       "181817           False                  False          False   \n",
       "19548            False                  False          False   \n",
       "64723            False                  False          False   \n",
       "14266            False                  False          False   \n",
       "103109           False                  False          False   \n",
       "\n",
       "        int_col_White / Brown  int_col_Yellow  int_col_–  \\\n",
       "181817                  False           False      False   \n",
       "19548                   False           False      False   \n",
       "64723                   False           False      False   \n",
       "14266                   False           False      False   \n",
       "103109                  False           False      False   \n",
       "\n",
       "        accident_None reported  \n",
       "181817                    True  \n",
       "19548                    False  \n",
       "64723                     True  \n",
       "14266                     True  \n",
       "103109                    True  \n",
       "\n",
       "[5 rows x 3603 columns]"
      ]
     },
     "execution_count": 11,
     "metadata": {},
     "output_type": "execute_result"
    }
   ],
   "source": [
    "train_data.sample(5)"
   ]
  },
  {
   "cell_type": "code",
   "execution_count": 12,
   "id": "08dda04d",
   "metadata": {
    "execution": {
     "iopub.execute_input": "2024-09-15T14:20:00.228152Z",
     "iopub.status.busy": "2024-09-15T14:20:00.227868Z",
     "iopub.status.idle": "2024-09-15T14:20:00.250562Z",
     "shell.execute_reply": "2024-09-15T14:20:00.249790Z"
    },
    "papermill": {
     "duration": 0.036565,
     "end_time": "2024-09-15T14:20:00.252745",
     "exception": false,
     "start_time": "2024-09-15T14:20:00.216180",
     "status": "completed"
    },
    "tags": []
   },
   "outputs": [
    {
     "data": {
      "text/html": [
       "<div>\n",
       "<style scoped>\n",
       "    .dataframe tbody tr th:only-of-type {\n",
       "        vertical-align: middle;\n",
       "    }\n",
       "\n",
       "    .dataframe tbody tr th {\n",
       "        vertical-align: top;\n",
       "    }\n",
       "\n",
       "    .dataframe thead th {\n",
       "        text-align: right;\n",
       "    }\n",
       "</style>\n",
       "<table border=\"1\" class=\"dataframe\">\n",
       "  <thead>\n",
       "    <tr style=\"text-align: right;\">\n",
       "      <th></th>\n",
       "      <th>id</th>\n",
       "      <th>model_year</th>\n",
       "      <th>milage</th>\n",
       "      <th>brand_Alfa</th>\n",
       "      <th>brand_Aston</th>\n",
       "      <th>brand_Audi</th>\n",
       "      <th>brand_BMW</th>\n",
       "      <th>brand_Bentley</th>\n",
       "      <th>brand_Bugatti</th>\n",
       "      <th>brand_Buick</th>\n",
       "      <th>...</th>\n",
       "      <th>int_col_Tupelo</th>\n",
       "      <th>int_col_Very Light Cashmere</th>\n",
       "      <th>int_col_WHITE</th>\n",
       "      <th>int_col_Walnut</th>\n",
       "      <th>int_col_Whisper Beige</th>\n",
       "      <th>int_col_White</th>\n",
       "      <th>int_col_White / Brown</th>\n",
       "      <th>int_col_Yellow</th>\n",
       "      <th>int_col_–</th>\n",
       "      <th>accident_None reported</th>\n",
       "    </tr>\n",
       "  </thead>\n",
       "  <tbody>\n",
       "    <tr>\n",
       "      <th>6386</th>\n",
       "      <td>194919</td>\n",
       "      <td>2021</td>\n",
       "      <td>15000</td>\n",
       "      <td>False</td>\n",
       "      <td>False</td>\n",
       "      <td>False</td>\n",
       "      <td>False</td>\n",
       "      <td>False</td>\n",
       "      <td>False</td>\n",
       "      <td>False</td>\n",
       "      <td>...</td>\n",
       "      <td>False</td>\n",
       "      <td>False</td>\n",
       "      <td>False</td>\n",
       "      <td>False</td>\n",
       "      <td>False</td>\n",
       "      <td>True</td>\n",
       "      <td>False</td>\n",
       "      <td>False</td>\n",
       "      <td>False</td>\n",
       "      <td>True</td>\n",
       "    </tr>\n",
       "    <tr>\n",
       "      <th>100976</th>\n",
       "      <td>289509</td>\n",
       "      <td>2021</td>\n",
       "      <td>22000</td>\n",
       "      <td>False</td>\n",
       "      <td>False</td>\n",
       "      <td>False</td>\n",
       "      <td>False</td>\n",
       "      <td>False</td>\n",
       "      <td>False</td>\n",
       "      <td>False</td>\n",
       "      <td>...</td>\n",
       "      <td>False</td>\n",
       "      <td>False</td>\n",
       "      <td>False</td>\n",
       "      <td>False</td>\n",
       "      <td>False</td>\n",
       "      <td>False</td>\n",
       "      <td>False</td>\n",
       "      <td>False</td>\n",
       "      <td>False</td>\n",
       "      <td>True</td>\n",
       "    </tr>\n",
       "    <tr>\n",
       "      <th>92568</th>\n",
       "      <td>281101</td>\n",
       "      <td>2023</td>\n",
       "      <td>535</td>\n",
       "      <td>False</td>\n",
       "      <td>False</td>\n",
       "      <td>False</td>\n",
       "      <td>True</td>\n",
       "      <td>False</td>\n",
       "      <td>False</td>\n",
       "      <td>False</td>\n",
       "      <td>...</td>\n",
       "      <td>False</td>\n",
       "      <td>False</td>\n",
       "      <td>False</td>\n",
       "      <td>False</td>\n",
       "      <td>False</td>\n",
       "      <td>False</td>\n",
       "      <td>False</td>\n",
       "      <td>False</td>\n",
       "      <td>False</td>\n",
       "      <td>True</td>\n",
       "    </tr>\n",
       "    <tr>\n",
       "      <th>83579</th>\n",
       "      <td>272112</td>\n",
       "      <td>2018</td>\n",
       "      <td>23823</td>\n",
       "      <td>False</td>\n",
       "      <td>False</td>\n",
       "      <td>True</td>\n",
       "      <td>False</td>\n",
       "      <td>False</td>\n",
       "      <td>False</td>\n",
       "      <td>False</td>\n",
       "      <td>...</td>\n",
       "      <td>False</td>\n",
       "      <td>False</td>\n",
       "      <td>False</td>\n",
       "      <td>False</td>\n",
       "      <td>False</td>\n",
       "      <td>False</td>\n",
       "      <td>False</td>\n",
       "      <td>False</td>\n",
       "      <td>False</td>\n",
       "      <td>True</td>\n",
       "    </tr>\n",
       "    <tr>\n",
       "      <th>12388</th>\n",
       "      <td>200921</td>\n",
       "      <td>2003</td>\n",
       "      <td>142215</td>\n",
       "      <td>False</td>\n",
       "      <td>False</td>\n",
       "      <td>False</td>\n",
       "      <td>False</td>\n",
       "      <td>False</td>\n",
       "      <td>False</td>\n",
       "      <td>False</td>\n",
       "      <td>...</td>\n",
       "      <td>False</td>\n",
       "      <td>False</td>\n",
       "      <td>False</td>\n",
       "      <td>False</td>\n",
       "      <td>False</td>\n",
       "      <td>False</td>\n",
       "      <td>False</td>\n",
       "      <td>False</td>\n",
       "      <td>False</td>\n",
       "      <td>True</td>\n",
       "    </tr>\n",
       "  </tbody>\n",
       "</table>\n",
       "<p>5 rows × 3592 columns</p>\n",
       "</div>"
      ],
      "text/plain": [
       "            id  model_year  milage  brand_Alfa  brand_Aston  brand_Audi  \\\n",
       "6386    194919        2021   15000       False        False       False   \n",
       "100976  289509        2021   22000       False        False       False   \n",
       "92568   281101        2023     535       False        False       False   \n",
       "83579   272112        2018   23823       False        False        True   \n",
       "12388   200921        2003  142215       False        False       False   \n",
       "\n",
       "        brand_BMW  brand_Bentley  brand_Bugatti  brand_Buick  ...  \\\n",
       "6386        False          False          False        False  ...   \n",
       "100976      False          False          False        False  ...   \n",
       "92568        True          False          False        False  ...   \n",
       "83579       False          False          False        False  ...   \n",
       "12388       False          False          False        False  ...   \n",
       "\n",
       "        int_col_Tupelo  int_col_Very Light Cashmere  int_col_WHITE  \\\n",
       "6386             False                        False          False   \n",
       "100976           False                        False          False   \n",
       "92568            False                        False          False   \n",
       "83579            False                        False          False   \n",
       "12388            False                        False          False   \n",
       "\n",
       "        int_col_Walnut  int_col_Whisper Beige  int_col_White  \\\n",
       "6386             False                  False           True   \n",
       "100976           False                  False          False   \n",
       "92568            False                  False          False   \n",
       "83579            False                  False          False   \n",
       "12388            False                  False          False   \n",
       "\n",
       "        int_col_White / Brown  int_col_Yellow  int_col_–  \\\n",
       "6386                    False           False      False   \n",
       "100976                  False           False      False   \n",
       "92568                   False           False      False   \n",
       "83579                   False           False      False   \n",
       "12388                   False           False      False   \n",
       "\n",
       "        accident_None reported  \n",
       "6386                      True  \n",
       "100976                    True  \n",
       "92568                     True  \n",
       "83579                     True  \n",
       "12388                     True  \n",
       "\n",
       "[5 rows x 3592 columns]"
      ]
     },
     "execution_count": 12,
     "metadata": {},
     "output_type": "execute_result"
    }
   ],
   "source": [
    "test_data.sample(5)"
   ]
  },
  {
   "cell_type": "code",
   "execution_count": 13,
   "id": "42faf958",
   "metadata": {
    "execution": {
     "iopub.execute_input": "2024-09-15T14:20:00.277336Z",
     "iopub.status.busy": "2024-09-15T14:20:00.277050Z",
     "iopub.status.idle": "2024-09-15T14:20:00.451677Z",
     "shell.execute_reply": "2024-09-15T14:20:00.450769Z"
    },
    "papermill": {
     "duration": 0.189256,
     "end_time": "2024-09-15T14:20:00.454113",
     "exception": false,
     "start_time": "2024-09-15T14:20:00.264857",
     "status": "completed"
    },
    "tags": []
   },
   "outputs": [
    {
     "data": {
      "text/html": [
       "<div>\n",
       "<style scoped>\n",
       "    .dataframe tbody tr th:only-of-type {\n",
       "        vertical-align: middle;\n",
       "    }\n",
       "\n",
       "    .dataframe tbody tr th {\n",
       "        vertical-align: top;\n",
       "    }\n",
       "\n",
       "    .dataframe thead th {\n",
       "        text-align: right;\n",
       "    }\n",
       "</style>\n",
       "<table border=\"1\" class=\"dataframe\">\n",
       "  <thead>\n",
       "    <tr style=\"text-align: right;\">\n",
       "      <th></th>\n",
       "      <th>id</th>\n",
       "      <th>model_year</th>\n",
       "      <th>milage</th>\n",
       "      <th>price</th>\n",
       "      <th>brand_Alfa</th>\n",
       "      <th>brand_Aston</th>\n",
       "      <th>brand_Audi</th>\n",
       "      <th>brand_BMW</th>\n",
       "      <th>brand_Bentley</th>\n",
       "      <th>brand_Bugatti</th>\n",
       "      <th>...</th>\n",
       "      <th>int_col_Tupelo</th>\n",
       "      <th>int_col_Very Light Cashmere</th>\n",
       "      <th>int_col_WHITE</th>\n",
       "      <th>int_col_Walnut</th>\n",
       "      <th>int_col_Whisper Beige</th>\n",
       "      <th>int_col_White</th>\n",
       "      <th>int_col_White / Brown</th>\n",
       "      <th>int_col_Yellow</th>\n",
       "      <th>int_col_–</th>\n",
       "      <th>accident_None reported</th>\n",
       "    </tr>\n",
       "  </thead>\n",
       "  <tbody>\n",
       "    <tr>\n",
       "      <th>77040</th>\n",
       "      <td>265573</td>\n",
       "      <td>2023</td>\n",
       "      <td>6090</td>\n",
       "      <td>0</td>\n",
       "      <td>False</td>\n",
       "      <td>False</td>\n",
       "      <td>False</td>\n",
       "      <td>False</td>\n",
       "      <td>False</td>\n",
       "      <td>False</td>\n",
       "      <td>...</td>\n",
       "      <td>False</td>\n",
       "      <td>False</td>\n",
       "      <td>False</td>\n",
       "      <td>False</td>\n",
       "      <td>False</td>\n",
       "      <td>False</td>\n",
       "      <td>False</td>\n",
       "      <td>False</td>\n",
       "      <td>False</td>\n",
       "      <td>True</td>\n",
       "    </tr>\n",
       "    <tr>\n",
       "      <th>121580</th>\n",
       "      <td>310113</td>\n",
       "      <td>2016</td>\n",
       "      <td>86000</td>\n",
       "      <td>0</td>\n",
       "      <td>False</td>\n",
       "      <td>False</td>\n",
       "      <td>False</td>\n",
       "      <td>False</td>\n",
       "      <td>False</td>\n",
       "      <td>False</td>\n",
       "      <td>...</td>\n",
       "      <td>False</td>\n",
       "      <td>False</td>\n",
       "      <td>False</td>\n",
       "      <td>False</td>\n",
       "      <td>False</td>\n",
       "      <td>False</td>\n",
       "      <td>False</td>\n",
       "      <td>False</td>\n",
       "      <td>False</td>\n",
       "      <td>False</td>\n",
       "    </tr>\n",
       "    <tr>\n",
       "      <th>14702</th>\n",
       "      <td>203235</td>\n",
       "      <td>2014</td>\n",
       "      <td>38400</td>\n",
       "      <td>0</td>\n",
       "      <td>False</td>\n",
       "      <td>False</td>\n",
       "      <td>True</td>\n",
       "      <td>False</td>\n",
       "      <td>False</td>\n",
       "      <td>False</td>\n",
       "      <td>...</td>\n",
       "      <td>False</td>\n",
       "      <td>False</td>\n",
       "      <td>False</td>\n",
       "      <td>False</td>\n",
       "      <td>False</td>\n",
       "      <td>False</td>\n",
       "      <td>False</td>\n",
       "      <td>False</td>\n",
       "      <td>False</td>\n",
       "      <td>True</td>\n",
       "    </tr>\n",
       "    <tr>\n",
       "      <th>97227</th>\n",
       "      <td>285760</td>\n",
       "      <td>2008</td>\n",
       "      <td>95000</td>\n",
       "      <td>0</td>\n",
       "      <td>False</td>\n",
       "      <td>False</td>\n",
       "      <td>False</td>\n",
       "      <td>False</td>\n",
       "      <td>False</td>\n",
       "      <td>False</td>\n",
       "      <td>...</td>\n",
       "      <td>False</td>\n",
       "      <td>False</td>\n",
       "      <td>False</td>\n",
       "      <td>False</td>\n",
       "      <td>False</td>\n",
       "      <td>False</td>\n",
       "      <td>False</td>\n",
       "      <td>False</td>\n",
       "      <td>False</td>\n",
       "      <td>False</td>\n",
       "    </tr>\n",
       "    <tr>\n",
       "      <th>38544</th>\n",
       "      <td>227077</td>\n",
       "      <td>2008</td>\n",
       "      <td>61000</td>\n",
       "      <td>0</td>\n",
       "      <td>False</td>\n",
       "      <td>False</td>\n",
       "      <td>False</td>\n",
       "      <td>True</td>\n",
       "      <td>False</td>\n",
       "      <td>False</td>\n",
       "      <td>...</td>\n",
       "      <td>False</td>\n",
       "      <td>False</td>\n",
       "      <td>False</td>\n",
       "      <td>False</td>\n",
       "      <td>False</td>\n",
       "      <td>False</td>\n",
       "      <td>False</td>\n",
       "      <td>False</td>\n",
       "      <td>False</td>\n",
       "      <td>True</td>\n",
       "    </tr>\n",
       "  </tbody>\n",
       "</table>\n",
       "<p>5 rows × 3603 columns</p>\n",
       "</div>"
      ],
      "text/plain": [
       "            id  model_year  milage  price  brand_Alfa  brand_Aston  \\\n",
       "77040   265573        2023    6090      0       False        False   \n",
       "121580  310113        2016   86000      0       False        False   \n",
       "14702   203235        2014   38400      0       False        False   \n",
       "97227   285760        2008   95000      0       False        False   \n",
       "38544   227077        2008   61000      0       False        False   \n",
       "\n",
       "        brand_Audi  brand_BMW  brand_Bentley  brand_Bugatti  ...  \\\n",
       "77040        False      False          False          False  ...   \n",
       "121580       False      False          False          False  ...   \n",
       "14702         True      False          False          False  ...   \n",
       "97227        False      False          False          False  ...   \n",
       "38544        False       True          False          False  ...   \n",
       "\n",
       "        int_col_Tupelo  int_col_Very Light Cashmere  int_col_WHITE  \\\n",
       "77040            False                        False          False   \n",
       "121580           False                        False          False   \n",
       "14702            False                        False          False   \n",
       "97227            False                        False          False   \n",
       "38544            False                        False          False   \n",
       "\n",
       "        int_col_Walnut  int_col_Whisper Beige  int_col_White  \\\n",
       "77040            False                  False          False   \n",
       "121580           False                  False          False   \n",
       "14702            False                  False          False   \n",
       "97227            False                  False          False   \n",
       "38544            False                  False          False   \n",
       "\n",
       "        int_col_White / Brown  int_col_Yellow  int_col_–  \\\n",
       "77040                   False           False      False   \n",
       "121580                  False           False      False   \n",
       "14702                   False           False      False   \n",
       "97227                   False           False      False   \n",
       "38544                   False           False      False   \n",
       "\n",
       "        accident_None reported  \n",
       "77040                     True  \n",
       "121580                   False  \n",
       "14702                     True  \n",
       "97227                    False  \n",
       "38544                     True  \n",
       "\n",
       "[5 rows x 3603 columns]"
      ]
     },
     "execution_count": 13,
     "metadata": {},
     "output_type": "execute_result"
    }
   ],
   "source": [
    "# Align columns of test data with training data (since one-hot encoding can produce different sets of columns)\n",
    "test_data = test_data.reindex(columns=train_data.columns, fill_value=0)\n",
    "test_data.sample(5)"
   ]
  },
  {
   "cell_type": "code",
   "execution_count": 14,
   "id": "c7f8d7af",
   "metadata": {
    "execution": {
     "iopub.execute_input": "2024-09-15T14:20:00.479419Z",
     "iopub.status.busy": "2024-09-15T14:20:00.479107Z",
     "iopub.status.idle": "2024-09-15T14:20:00.631094Z",
     "shell.execute_reply": "2024-09-15T14:20:00.630313Z"
    },
    "papermill": {
     "duration": 0.167249,
     "end_time": "2024-09-15T14:20:00.633414",
     "exception": false,
     "start_time": "2024-09-15T14:20:00.466165",
     "status": "completed"
    },
    "tags": []
   },
   "outputs": [],
   "source": [
    "# Drop 'price' column from test data as it's not available in test\n",
    "test_data.drop(columns=['price'], errors='ignore', inplace=True)"
   ]
  },
  {
   "cell_type": "code",
   "execution_count": 15,
   "id": "59fc9ca3",
   "metadata": {
    "execution": {
     "iopub.execute_input": "2024-09-15T14:20:00.659086Z",
     "iopub.status.busy": "2024-09-15T14:20:00.658106Z",
     "iopub.status.idle": "2024-09-15T14:20:00.864323Z",
     "shell.execute_reply": "2024-09-15T14:20:00.863081Z"
    },
    "papermill": {
     "duration": 0.220913,
     "end_time": "2024-09-15T14:20:00.866492",
     "exception": false,
     "start_time": "2024-09-15T14:20:00.645579",
     "status": "completed"
    },
    "tags": []
   },
   "outputs": [
    {
     "name": "stdout",
     "output_type": "stream",
     "text": [
      "<class 'pandas.core.frame.DataFrame'>\n",
      "RangeIndex: 188533 entries, 0 to 188532\n",
      "Columns: 3603 entries, id to accident_None reported\n",
      "dtypes: bool(3599), int64(4)\n",
      "memory usage: 652.9 MB\n",
      "None\n"
     ]
    }
   ],
   "source": [
    "# Check to ensure the data is now numeric\n",
    "print(train_data.info())\n"
   ]
  },
  {
   "cell_type": "code",
   "execution_count": 16,
   "id": "4dc78583",
   "metadata": {
    "execution": {
     "iopub.execute_input": "2024-09-15T14:20:00.892742Z",
     "iopub.status.busy": "2024-09-15T14:20:00.892425Z",
     "iopub.status.idle": "2024-09-15T14:20:01.103427Z",
     "shell.execute_reply": "2024-09-15T14:20:01.102452Z"
    },
    "papermill": {
     "duration": 0.225945,
     "end_time": "2024-09-15T14:20:01.105568",
     "exception": false,
     "start_time": "2024-09-15T14:20:00.879623",
     "status": "completed"
    },
    "tags": []
   },
   "outputs": [
    {
     "name": "stdout",
     "output_type": "stream",
     "text": [
      "<class 'pandas.core.frame.DataFrame'>\n",
      "RangeIndex: 125690 entries, 0 to 125689\n",
      "Columns: 3602 entries, id to accident_None reported\n",
      "dtypes: bool(3587), int64(15)\n",
      "memory usage: 444.3 MB\n",
      "None\n"
     ]
    }
   ],
   "source": [
    "print(test_data.info())"
   ]
  },
  {
   "cell_type": "markdown",
   "id": "a8d80ae0",
   "metadata": {
    "papermill": {
     "duration": 0.012062,
     "end_time": "2024-09-15T14:20:01.129820",
     "exception": false,
     "start_time": "2024-09-15T14:20:01.117758",
     "status": "completed"
    },
    "tags": []
   },
   "source": [
    "## 3. Feature Engineering\n",
    "\n",
    "`Create additional features (like car age, mileage categories, etc.) to improve model performance`"
   ]
  },
  {
   "cell_type": "code",
   "execution_count": 17,
   "id": "82ceee39",
   "metadata": {
    "execution": {
     "iopub.execute_input": "2024-09-15T14:20:01.155214Z",
     "iopub.status.busy": "2024-09-15T14:20:01.154858Z",
     "iopub.status.idle": "2024-09-15T14:20:01.161557Z",
     "shell.execute_reply": "2024-09-15T14:20:01.160708Z"
    },
    "papermill": {
     "duration": 0.021551,
     "end_time": "2024-09-15T14:20:01.163435",
     "exception": false,
     "start_time": "2024-09-15T14:20:01.141884",
     "status": "completed"
    },
    "tags": []
   },
   "outputs": [],
   "source": [
    "# Example: Create a new feature for car age\n",
    "train_data['car_age'] = 2024 - train_data['model_year'] \n",
    "test_data['car_age'] = 2024 - test_data['model_year']\n"
   ]
  },
  {
   "cell_type": "code",
   "execution_count": 18,
   "id": "34a89439",
   "metadata": {
    "execution": {
     "iopub.execute_input": "2024-09-15T14:20:01.188065Z",
     "iopub.status.busy": "2024-09-15T14:20:01.187763Z",
     "iopub.status.idle": "2024-09-15T14:20:01.193009Z",
     "shell.execute_reply": "2024-09-15T14:20:01.192165Z"
    },
    "papermill": {
     "duration": 0.019656,
     "end_time": "2024-09-15T14:20:01.194911",
     "exception": false,
     "start_time": "2024-09-15T14:20:01.175255",
     "status": "completed"
    },
    "tags": []
   },
   "outputs": [
    {
     "name": "stdout",
     "output_type": "stream",
     "text": [
      "0    17\n",
      "1    22\n",
      "2    22\n",
      "3     7\n",
      "4     3\n",
      "Name: car_age, dtype: int64\n"
     ]
    }
   ],
   "source": [
    "print(train_data['car_age'].head())"
   ]
  },
  {
   "cell_type": "code",
   "execution_count": 19,
   "id": "3d630922",
   "metadata": {
    "execution": {
     "iopub.execute_input": "2024-09-15T14:20:01.219714Z",
     "iopub.status.busy": "2024-09-15T14:20:01.219425Z",
     "iopub.status.idle": "2024-09-15T14:20:01.590265Z",
     "shell.execute_reply": "2024-09-15T14:20:01.589237Z"
    },
    "papermill": {
     "duration": 0.385949,
     "end_time": "2024-09-15T14:20:01.592699",
     "exception": false,
     "start_time": "2024-09-15T14:20:01.206750",
     "status": "completed"
    },
    "tags": []
   },
   "outputs": [],
   "source": [
    "# Drop unnecessary columns like 'year'\n",
    "train_data.drop('model_year', axis=1, inplace=True)\n",
    "test_data.drop('model_year', axis=1, inplace=True)"
   ]
  },
  {
   "cell_type": "markdown",
   "id": "f5b890a3",
   "metadata": {
    "papermill": {
     "duration": 0.011713,
     "end_time": "2024-09-15T14:20:01.616739",
     "exception": false,
     "start_time": "2024-09-15T14:20:01.605026",
     "status": "completed"
    },
    "tags": []
   },
   "source": [
    "## 4. Splitting the Data\n",
    "\n",
    "*Split the data into features (**X**) and target (**y**)*"
   ]
  },
  {
   "cell_type": "code",
   "execution_count": 20,
   "id": "ca750868",
   "metadata": {
    "execution": {
     "iopub.execute_input": "2024-09-15T14:20:01.641809Z",
     "iopub.status.busy": "2024-09-15T14:20:01.641466Z",
     "iopub.status.idle": "2024-09-15T14:20:01.856551Z",
     "shell.execute_reply": "2024-09-15T14:20:01.855779Z"
    },
    "papermill": {
     "duration": 0.230194,
     "end_time": "2024-09-15T14:20:01.858951",
     "exception": false,
     "start_time": "2024-09-15T14:20:01.628757",
     "status": "completed"
    },
    "tags": []
   },
   "outputs": [],
   "source": [
    "X = train_data.drop(columns=['price', 'id'])  # Drop target and id from features\n",
    "y = train_data['price']"
   ]
  },
  {
   "cell_type": "code",
   "execution_count": 21,
   "id": "03f8dd9b",
   "metadata": {
    "execution": {
     "iopub.execute_input": "2024-09-15T14:20:01.884586Z",
     "iopub.status.busy": "2024-09-15T14:20:01.884261Z",
     "iopub.status.idle": "2024-09-15T14:20:02.040075Z",
     "shell.execute_reply": "2024-09-15T14:20:02.039238Z"
    },
    "papermill": {
     "duration": 0.171118,
     "end_time": "2024-09-15T14:20:02.042439",
     "exception": false,
     "start_time": "2024-09-15T14:20:01.871321",
     "status": "completed"
    },
    "tags": []
   },
   "outputs": [],
   "source": [
    "# Prepare the test features (without price column)\n",
    "X_test = test_data.drop(columns=['id'])"
   ]
  },
  {
   "cell_type": "markdown",
   "id": "45eaaf6e",
   "metadata": {
    "papermill": {
     "duration": 0.011714,
     "end_time": "2024-09-15T14:20:02.066452",
     "exception": false,
     "start_time": "2024-09-15T14:20:02.054738",
     "status": "completed"
    },
    "tags": []
   },
   "source": [
    "## 5. Train-Test Split"
   ]
  },
  {
   "cell_type": "code",
   "execution_count": 22,
   "id": "52b79207",
   "metadata": {
    "execution": {
     "iopub.execute_input": "2024-09-15T14:20:02.091370Z",
     "iopub.status.busy": "2024-09-15T14:20:02.091046Z",
     "iopub.status.idle": "2024-09-15T14:20:03.368554Z",
     "shell.execute_reply": "2024-09-15T14:20:03.367775Z"
    },
    "papermill": {
     "duration": 1.292575,
     "end_time": "2024-09-15T14:20:03.370871",
     "exception": false,
     "start_time": "2024-09-15T14:20:02.078296",
     "status": "completed"
    },
    "tags": []
   },
   "outputs": [],
   "source": [
    "from sklearn.model_selection import train_test_split\n",
    "\n",
    "X_train, X_val, y_train, y_val = train_test_split(X, y, test_size=0.2, random_state=42)\n"
   ]
  },
  {
   "cell_type": "markdown",
   "id": "94c30736",
   "metadata": {
    "papermill": {
     "duration": 0.011842,
     "end_time": "2024-09-15T14:20:03.395001",
     "exception": false,
     "start_time": "2024-09-15T14:20:03.383159",
     "status": "completed"
    },
    "tags": []
   },
   "source": [
    "## 6. Model Training\n",
    "\n",
    "- We will use Gradient Boosting or Random Forest, which are typically effective for tabular data. \n",
    "- Let’s use XGBoost for this purpose as it is fast and efficient.\n",
    "\n"
   ]
  },
  {
   "cell_type": "code",
   "execution_count": 23,
   "id": "07721aa5",
   "metadata": {
    "execution": {
     "iopub.execute_input": "2024-09-15T14:20:03.419946Z",
     "iopub.status.busy": "2024-09-15T14:20:03.419602Z",
     "iopub.status.idle": "2024-09-15T14:20:03.575838Z",
     "shell.execute_reply": "2024-09-15T14:20:03.574934Z"
    },
    "papermill": {
     "duration": 0.171073,
     "end_time": "2024-09-15T14:20:03.578004",
     "exception": false,
     "start_time": "2024-09-15T14:20:03.406931",
     "status": "completed"
    },
    "tags": []
   },
   "outputs": [],
   "source": [
    "import xgboost as xgb\n",
    "from sklearn.metrics import mean_squared_error\n",
    "\n",
    "# Initialize XGBoost regressor\n",
    "xgb_model = xgb.XGBRegressor(n_estimators=1000, learning_rate=0.05, max_depth=6, subsample=0.8, colsample_bytree=0.8, random_state=42)"
   ]
  },
  {
   "cell_type": "code",
   "execution_count": 24,
   "id": "007052a8",
   "metadata": {
    "execution": {
     "iopub.execute_input": "2024-09-15T14:20:03.603558Z",
     "iopub.status.busy": "2024-09-15T14:20:03.602955Z",
     "iopub.status.idle": "2024-09-15T14:27:26.461611Z",
     "shell.execute_reply": "2024-09-15T14:27:26.460604Z"
    },
    "papermill": {
     "duration": 442.886306,
     "end_time": "2024-09-15T14:27:26.476492",
     "exception": false,
     "start_time": "2024-09-15T14:20:03.590186",
     "status": "completed"
    },
    "tags": []
   },
   "outputs": [
    {
     "data": {
      "text/html": [
       "<style>#sk-container-id-1 {color: black;background-color: white;}#sk-container-id-1 pre{padding: 0;}#sk-container-id-1 div.sk-toggleable {background-color: white;}#sk-container-id-1 label.sk-toggleable__label {cursor: pointer;display: block;width: 100%;margin-bottom: 0;padding: 0.3em;box-sizing: border-box;text-align: center;}#sk-container-id-1 label.sk-toggleable__label-arrow:before {content: \"▸\";float: left;margin-right: 0.25em;color: #696969;}#sk-container-id-1 label.sk-toggleable__label-arrow:hover:before {color: black;}#sk-container-id-1 div.sk-estimator:hover label.sk-toggleable__label-arrow:before {color: black;}#sk-container-id-1 div.sk-toggleable__content {max-height: 0;max-width: 0;overflow: hidden;text-align: left;background-color: #f0f8ff;}#sk-container-id-1 div.sk-toggleable__content pre {margin: 0.2em;color: black;border-radius: 0.25em;background-color: #f0f8ff;}#sk-container-id-1 input.sk-toggleable__control:checked~div.sk-toggleable__content {max-height: 200px;max-width: 100%;overflow: auto;}#sk-container-id-1 input.sk-toggleable__control:checked~label.sk-toggleable__label-arrow:before {content: \"▾\";}#sk-container-id-1 div.sk-estimator input.sk-toggleable__control:checked~label.sk-toggleable__label {background-color: #d4ebff;}#sk-container-id-1 div.sk-label input.sk-toggleable__control:checked~label.sk-toggleable__label {background-color: #d4ebff;}#sk-container-id-1 input.sk-hidden--visually {border: 0;clip: rect(1px 1px 1px 1px);clip: rect(1px, 1px, 1px, 1px);height: 1px;margin: -1px;overflow: hidden;padding: 0;position: absolute;width: 1px;}#sk-container-id-1 div.sk-estimator {font-family: monospace;background-color: #f0f8ff;border: 1px dotted black;border-radius: 0.25em;box-sizing: border-box;margin-bottom: 0.5em;}#sk-container-id-1 div.sk-estimator:hover {background-color: #d4ebff;}#sk-container-id-1 div.sk-parallel-item::after {content: \"\";width: 100%;border-bottom: 1px solid gray;flex-grow: 1;}#sk-container-id-1 div.sk-label:hover label.sk-toggleable__label {background-color: #d4ebff;}#sk-container-id-1 div.sk-serial::before {content: \"\";position: absolute;border-left: 1px solid gray;box-sizing: border-box;top: 0;bottom: 0;left: 50%;z-index: 0;}#sk-container-id-1 div.sk-serial {display: flex;flex-direction: column;align-items: center;background-color: white;padding-right: 0.2em;padding-left: 0.2em;position: relative;}#sk-container-id-1 div.sk-item {position: relative;z-index: 1;}#sk-container-id-1 div.sk-parallel {display: flex;align-items: stretch;justify-content: center;background-color: white;position: relative;}#sk-container-id-1 div.sk-item::before, #sk-container-id-1 div.sk-parallel-item::before {content: \"\";position: absolute;border-left: 1px solid gray;box-sizing: border-box;top: 0;bottom: 0;left: 50%;z-index: -1;}#sk-container-id-1 div.sk-parallel-item {display: flex;flex-direction: column;z-index: 1;position: relative;background-color: white;}#sk-container-id-1 div.sk-parallel-item:first-child::after {align-self: flex-end;width: 50%;}#sk-container-id-1 div.sk-parallel-item:last-child::after {align-self: flex-start;width: 50%;}#sk-container-id-1 div.sk-parallel-item:only-child::after {width: 0;}#sk-container-id-1 div.sk-dashed-wrapped {border: 1px dashed gray;margin: 0 0.4em 0.5em 0.4em;box-sizing: border-box;padding-bottom: 0.4em;background-color: white;}#sk-container-id-1 div.sk-label label {font-family: monospace;font-weight: bold;display: inline-block;line-height: 1.2em;}#sk-container-id-1 div.sk-label-container {text-align: center;}#sk-container-id-1 div.sk-container {/* jupyter's `normalize.less` sets `[hidden] { display: none; }` but bootstrap.min.css set `[hidden] { display: none !important; }` so we also need the `!important` here to be able to override the default hidden behavior on the sphinx rendered scikit-learn.org. See: https://github.com/scikit-learn/scikit-learn/issues/21755 */display: inline-block !important;position: relative;}#sk-container-id-1 div.sk-text-repr-fallback {display: none;}</style><div id=\"sk-container-id-1\" class=\"sk-top-container\"><div class=\"sk-text-repr-fallback\"><pre>XGBRegressor(base_score=None, booster=None, callbacks=None,\n",
       "             colsample_bylevel=None, colsample_bynode=None,\n",
       "             colsample_bytree=0.8, device=None, early_stopping_rounds=None,\n",
       "             enable_categorical=False, eval_metric=None, feature_types=None,\n",
       "             gamma=None, grow_policy=None, importance_type=None,\n",
       "             interaction_constraints=None, learning_rate=0.05, max_bin=None,\n",
       "             max_cat_threshold=None, max_cat_to_onehot=None,\n",
       "             max_delta_step=None, max_depth=6, max_leaves=None,\n",
       "             min_child_weight=None, missing=nan, monotone_constraints=None,\n",
       "             multi_strategy=None, n_estimators=1000, n_jobs=None,\n",
       "             num_parallel_tree=None, random_state=42, ...)</pre><b>In a Jupyter environment, please rerun this cell to show the HTML representation or trust the notebook. <br />On GitHub, the HTML representation is unable to render, please try loading this page with nbviewer.org.</b></div><div class=\"sk-container\" hidden><div class=\"sk-item\"><div class=\"sk-estimator sk-toggleable\"><input class=\"sk-toggleable__control sk-hidden--visually\" id=\"sk-estimator-id-1\" type=\"checkbox\" checked><label for=\"sk-estimator-id-1\" class=\"sk-toggleable__label sk-toggleable__label-arrow\">XGBRegressor</label><div class=\"sk-toggleable__content\"><pre>XGBRegressor(base_score=None, booster=None, callbacks=None,\n",
       "             colsample_bylevel=None, colsample_bynode=None,\n",
       "             colsample_bytree=0.8, device=None, early_stopping_rounds=None,\n",
       "             enable_categorical=False, eval_metric=None, feature_types=None,\n",
       "             gamma=None, grow_policy=None, importance_type=None,\n",
       "             interaction_constraints=None, learning_rate=0.05, max_bin=None,\n",
       "             max_cat_threshold=None, max_cat_to_onehot=None,\n",
       "             max_delta_step=None, max_depth=6, max_leaves=None,\n",
       "             min_child_weight=None, missing=nan, monotone_constraints=None,\n",
       "             multi_strategy=None, n_estimators=1000, n_jobs=None,\n",
       "             num_parallel_tree=None, random_state=42, ...)</pre></div></div></div></div></div>"
      ],
      "text/plain": [
       "XGBRegressor(base_score=None, booster=None, callbacks=None,\n",
       "             colsample_bylevel=None, colsample_bynode=None,\n",
       "             colsample_bytree=0.8, device=None, early_stopping_rounds=None,\n",
       "             enable_categorical=False, eval_metric=None, feature_types=None,\n",
       "             gamma=None, grow_policy=None, importance_type=None,\n",
       "             interaction_constraints=None, learning_rate=0.05, max_bin=None,\n",
       "             max_cat_threshold=None, max_cat_to_onehot=None,\n",
       "             max_delta_step=None, max_depth=6, max_leaves=None,\n",
       "             min_child_weight=None, missing=nan, monotone_constraints=None,\n",
       "             multi_strategy=None, n_estimators=1000, n_jobs=None,\n",
       "             num_parallel_tree=None, random_state=42, ...)"
      ]
     },
     "execution_count": 24,
     "metadata": {},
     "output_type": "execute_result"
    }
   ],
   "source": [
    "# Fit the model with early stopping\n",
    "xgb_model.fit(\n",
    "    X_train, \n",
    "    y_train, \n",
    "    eval_set=[(X_val, y_val)],  # Validation set for early stopping\n",
    "    early_stopping_rounds=50,   # Stop if performance doesn't improve after 50 rounds\n",
    "    verbose=False               # Suppress training output\n",
    ")"
   ]
  },
  {
   "cell_type": "code",
   "execution_count": 25,
   "id": "1a77b2dc",
   "metadata": {
    "execution": {
     "iopub.execute_input": "2024-09-15T14:27:26.502116Z",
     "iopub.status.busy": "2024-09-15T14:27:26.501784Z",
     "iopub.status.idle": "2024-09-15T14:27:41.492862Z",
     "shell.execute_reply": "2024-09-15T14:27:41.492035Z"
    },
    "papermill": {
     "duration": 15.006495,
     "end_time": "2024-09-15T14:27:41.495092",
     "exception": false,
     "start_time": "2024-09-15T14:27:26.488597",
     "status": "completed"
    },
    "tags": []
   },
   "outputs": [],
   "source": [
    "# Make predictions on the validation set\n",
    "y_val_pred = xgb_model.predict(X_val)"
   ]
  },
  {
   "cell_type": "code",
   "execution_count": 26,
   "id": "3142fc9a",
   "metadata": {
    "execution": {
     "iopub.execute_input": "2024-09-15T14:27:41.522305Z",
     "iopub.status.busy": "2024-09-15T14:27:41.521972Z",
     "iopub.status.idle": "2024-09-15T14:27:41.530049Z",
     "shell.execute_reply": "2024-09-15T14:27:41.528990Z"
    },
    "papermill": {
     "duration": 0.023154,
     "end_time": "2024-09-15T14:27:41.531987",
     "exception": false,
     "start_time": "2024-09-15T14:27:41.508833",
     "status": "completed"
    },
    "tags": []
   },
   "outputs": [
    {
     "name": "stdout",
     "output_type": "stream",
     "text": [
      "Validation RMSE: 69294.54372656536\n"
     ]
    }
   ],
   "source": [
    "# Calculate RMSE\n",
    "rmse = mean_squared_error(y_val, y_val_pred, squared=False)\n",
    "print(f'Validation RMSE: {rmse}')"
   ]
  },
  {
   "cell_type": "markdown",
   "id": "b490acc9",
   "metadata": {
    "papermill": {
     "duration": 0.012121,
     "end_time": "2024-09-15T14:27:41.556330",
     "exception": false,
     "start_time": "2024-09-15T14:27:41.544209",
     "status": "completed"
    },
    "tags": []
   },
   "source": [
    "## 7. Make Predictions on Test Set"
   ]
  },
  {
   "cell_type": "code",
   "execution_count": 27,
   "id": "1e7670ee",
   "metadata": {
    "execution": {
     "iopub.execute_input": "2024-09-15T14:27:41.582073Z",
     "iopub.status.busy": "2024-09-15T14:27:41.581778Z",
     "iopub.status.idle": "2024-09-15T14:28:30.680349Z",
     "shell.execute_reply": "2024-09-15T14:28:30.679523Z"
    },
    "papermill": {
     "duration": 49.114094,
     "end_time": "2024-09-15T14:28:30.682694",
     "exception": false,
     "start_time": "2024-09-15T14:27:41.568600",
     "status": "completed"
    },
    "tags": []
   },
   "outputs": [],
   "source": [
    "# Make predictions on the test set\n",
    "test_predictions = xgb_model.predict(X_test)"
   ]
  },
  {
   "cell_type": "code",
   "execution_count": 28,
   "id": "6e7602d0",
   "metadata": {
    "execution": {
     "iopub.execute_input": "2024-09-15T14:28:30.709824Z",
     "iopub.status.busy": "2024-09-15T14:28:30.709508Z",
     "iopub.status.idle": "2024-09-15T14:28:30.715614Z",
     "shell.execute_reply": "2024-09-15T14:28:30.714771Z"
    },
    "papermill": {
     "duration": 0.021459,
     "end_time": "2024-09-15T14:28:30.717652",
     "exception": false,
     "start_time": "2024-09-15T14:28:30.696193",
     "status": "completed"
    },
    "tags": []
   },
   "outputs": [
    {
     "data": {
      "text/plain": [
       "array([21629.504, 71963.125, 57056.19 , ..., 23772.69 , 14266.046,\n",
       "       36072.9  ], dtype=float32)"
      ]
     },
     "execution_count": 28,
     "metadata": {},
     "output_type": "execute_result"
    }
   ],
   "source": [
    "test_predictions"
   ]
  },
  {
   "cell_type": "code",
   "execution_count": 29,
   "id": "a431060d",
   "metadata": {
    "execution": {
     "iopub.execute_input": "2024-09-15T14:28:30.744228Z",
     "iopub.status.busy": "2024-09-15T14:28:30.743466Z",
     "iopub.status.idle": "2024-09-15T14:28:30.748888Z",
     "shell.execute_reply": "2024-09-15T14:28:30.748068Z"
    },
    "papermill": {
     "duration": 0.020619,
     "end_time": "2024-09-15T14:28:30.750663",
     "exception": false,
     "start_time": "2024-09-15T14:28:30.730044",
     "status": "completed"
    },
    "tags": []
   },
   "outputs": [],
   "source": [
    "# Prepare the submission file\n",
    "submission = pd.DataFrame({'id': test_data['id'], 'price': test_predictions})"
   ]
  },
  {
   "cell_type": "code",
   "execution_count": 30,
   "id": "813f6fac",
   "metadata": {
    "execution": {
     "iopub.execute_input": "2024-09-15T14:28:30.776769Z",
     "iopub.status.busy": "2024-09-15T14:28:30.776459Z",
     "iopub.status.idle": "2024-09-15T14:28:30.786967Z",
     "shell.execute_reply": "2024-09-15T14:28:30.786043Z"
    },
    "papermill": {
     "duration": 0.025867,
     "end_time": "2024-09-15T14:28:30.788983",
     "exception": false,
     "start_time": "2024-09-15T14:28:30.763116",
     "status": "completed"
    },
    "tags": []
   },
   "outputs": [
    {
     "data": {
      "text/html": [
       "<div>\n",
       "<style scoped>\n",
       "    .dataframe tbody tr th:only-of-type {\n",
       "        vertical-align: middle;\n",
       "    }\n",
       "\n",
       "    .dataframe tbody tr th {\n",
       "        vertical-align: top;\n",
       "    }\n",
       "\n",
       "    .dataframe thead th {\n",
       "        text-align: right;\n",
       "    }\n",
       "</style>\n",
       "<table border=\"1\" class=\"dataframe\">\n",
       "  <thead>\n",
       "    <tr style=\"text-align: right;\">\n",
       "      <th></th>\n",
       "      <th>id</th>\n",
       "      <th>price</th>\n",
       "    </tr>\n",
       "  </thead>\n",
       "  <tbody>\n",
       "    <tr>\n",
       "      <th>0</th>\n",
       "      <td>188533</td>\n",
       "      <td>21629.503906</td>\n",
       "    </tr>\n",
       "    <tr>\n",
       "      <th>1</th>\n",
       "      <td>188534</td>\n",
       "      <td>71963.125000</td>\n",
       "    </tr>\n",
       "    <tr>\n",
       "      <th>2</th>\n",
       "      <td>188535</td>\n",
       "      <td>57056.191406</td>\n",
       "    </tr>\n",
       "    <tr>\n",
       "      <th>3</th>\n",
       "      <td>188536</td>\n",
       "      <td>27783.203125</td>\n",
       "    </tr>\n",
       "    <tr>\n",
       "      <th>4</th>\n",
       "      <td>188537</td>\n",
       "      <td>36993.617188</td>\n",
       "    </tr>\n",
       "    <tr>\n",
       "      <th>...</th>\n",
       "      <td>...</td>\n",
       "      <td>...</td>\n",
       "    </tr>\n",
       "    <tr>\n",
       "      <th>125685</th>\n",
       "      <td>314218</td>\n",
       "      <td>24584.654297</td>\n",
       "    </tr>\n",
       "    <tr>\n",
       "      <th>125686</th>\n",
       "      <td>314219</td>\n",
       "      <td>50949.507812</td>\n",
       "    </tr>\n",
       "    <tr>\n",
       "      <th>125687</th>\n",
       "      <td>314220</td>\n",
       "      <td>23772.689453</td>\n",
       "    </tr>\n",
       "    <tr>\n",
       "      <th>125688</th>\n",
       "      <td>314221</td>\n",
       "      <td>14266.045898</td>\n",
       "    </tr>\n",
       "    <tr>\n",
       "      <th>125689</th>\n",
       "      <td>314222</td>\n",
       "      <td>36072.898438</td>\n",
       "    </tr>\n",
       "  </tbody>\n",
       "</table>\n",
       "<p>125690 rows × 2 columns</p>\n",
       "</div>"
      ],
      "text/plain": [
       "            id         price\n",
       "0       188533  21629.503906\n",
       "1       188534  71963.125000\n",
       "2       188535  57056.191406\n",
       "3       188536  27783.203125\n",
       "4       188537  36993.617188\n",
       "...        ...           ...\n",
       "125685  314218  24584.654297\n",
       "125686  314219  50949.507812\n",
       "125687  314220  23772.689453\n",
       "125688  314221  14266.045898\n",
       "125689  314222  36072.898438\n",
       "\n",
       "[125690 rows x 2 columns]"
      ]
     },
     "execution_count": 30,
     "metadata": {},
     "output_type": "execute_result"
    }
   ],
   "source": [
    "submission"
   ]
  },
  {
   "cell_type": "code",
   "execution_count": 31,
   "id": "2acf787e",
   "metadata": {
    "execution": {
     "iopub.execute_input": "2024-09-15T14:28:30.816078Z",
     "iopub.status.busy": "2024-09-15T14:28:30.815792Z",
     "iopub.status.idle": "2024-09-15T14:28:30.819390Z",
     "shell.execute_reply": "2024-09-15T14:28:30.818546Z"
    },
    "papermill": {
     "duration": 0.018999,
     "end_time": "2024-09-15T14:28:30.821211",
     "exception": false,
     "start_time": "2024-09-15T14:28:30.802212",
     "status": "completed"
    },
    "tags": []
   },
   "outputs": [],
   "source": [
    "#submission.to_csv('submission2.csv', index=False)"
   ]
  },
  {
   "cell_type": "code",
   "execution_count": null,
   "id": "abcc92f5",
   "metadata": {
    "papermill": {
     "duration": 0.012799,
     "end_time": "2024-09-15T14:28:30.847038",
     "exception": false,
     "start_time": "2024-09-15T14:28:30.834239",
     "status": "completed"
    },
    "tags": []
   },
   "outputs": [],
   "source": []
  }
 ],
 "metadata": {
  "kaggle": {
   "accelerator": "none",
   "dataSources": [
    {
     "databundleVersionId": 9057646,
     "sourceId": 76728,
     "sourceType": "competition"
    }
   ],
   "dockerImageVersionId": 30761,
   "isGpuEnabled": false,
   "isInternetEnabled": true,
   "language": "python",
   "sourceType": "notebook"
  },
  "kernelspec": {
   "display_name": "Python 3",
   "language": "python",
   "name": "python3"
  },
  "language_info": {
   "codemirror_mode": {
    "name": "ipython",
    "version": 3
   },
   "file_extension": ".py",
   "mimetype": "text/x-python",
   "name": "python",
   "nbconvert_exporter": "python",
   "pygments_lexer": "ipython3",
   "version": "3.10.14"
  },
  "papermill": {
   "default_parameters": {},
   "duration": 518.845863,
   "end_time": "2024-09-15T14:28:31.278490",
   "environment_variables": {},
   "exception": null,
   "input_path": "__notebook__.ipynb",
   "output_path": "__notebook__.ipynb",
   "parameters": {},
   "start_time": "2024-09-15T14:19:52.432627",
   "version": "2.6.0"
  }
 },
 "nbformat": 4,
 "nbformat_minor": 5
}

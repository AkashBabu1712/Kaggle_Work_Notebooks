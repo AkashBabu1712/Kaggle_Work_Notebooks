{
 "cells": [
  {
   "cell_type": "code",
   "execution_count": 1,
   "id": "a77e60df",
   "metadata": {
    "_cell_guid": "b1076dfc-b9ad-4769-8c92-a6c4dae69d19",
    "_uuid": "8f2839f25d086af736a60e9eeb907d3b93b6e0e5",
    "execution": {
     "iopub.execute_input": "2024-09-13T18:15:54.194128Z",
     "iopub.status.busy": "2024-09-13T18:15:54.193679Z",
     "iopub.status.idle": "2024-09-13T18:15:54.641702Z",
     "shell.execute_reply": "2024-09-13T18:15:54.640558Z"
    },
    "papermill": {
     "duration": 0.465898,
     "end_time": "2024-09-13T18:15:54.644484",
     "exception": false,
     "start_time": "2024-09-13T18:15:54.178586",
     "status": "completed"
    },
    "tags": []
   },
   "outputs": [
    {
     "name": "stdout",
     "output_type": "stream",
     "text": [
      "/kaggle/input/playground-series-s4e9/sample_submission.csv\n",
      "/kaggle/input/playground-series-s4e9/train.csv\n",
      "/kaggle/input/playground-series-s4e9/test.csv\n"
     ]
    }
   ],
   "source": [
    "# This Python 3 environment comes with many helpful analytics libraries installed\n",
    "# It is defined by the kaggle/python Docker image: https://github.com/kaggle/docker-python\n",
    "# For example, here's several helpful packages to load\n",
    "\n",
    "import numpy as np # linear algebra\n",
    "import pandas as pd # data processing, CSV file I/O (e.g. pd.read_csv)\n",
    "\n",
    "# Input data files are available in the read-only \"../input/\" directory\n",
    "# For example, running this (by clicking run or pressing Shift+Enter) will list all files under the input directory\n",
    "\n",
    "import os\n",
    "for dirname, _, filenames in os.walk('/kaggle/input'):\n",
    "    for filename in filenames:\n",
    "        print(os.path.join(dirname, filename))\n",
    "\n",
    "# You can write up to 20GB to the current directory (/kaggle/working/) that gets preserved as output when you create a version using \"Save & Run All\" \n",
    "# You can also write temporary files to /kaggle/temp/, but they won't be saved outside of the current session"
   ]
  },
  {
   "cell_type": "code",
   "execution_count": 2,
   "id": "341d3f77",
   "metadata": {
    "execution": {
     "iopub.execute_input": "2024-09-13T18:15:54.675569Z",
     "iopub.status.busy": "2024-09-13T18:15:54.675001Z",
     "iopub.status.idle": "2024-09-13T18:15:54.680121Z",
     "shell.execute_reply": "2024-09-13T18:15:54.678969Z"
    },
    "papermill": {
     "duration": 0.021666,
     "end_time": "2024-09-13T18:15:54.682619",
     "exception": false,
     "start_time": "2024-09-13T18:15:54.660953",
     "status": "completed"
    },
    "tags": []
   },
   "outputs": [],
   "source": [
    "import warnings\n",
    "# Ignore all warnings\n",
    "warnings.filterwarnings('ignore')"
   ]
  },
  {
   "cell_type": "markdown",
   "id": "44fa0f37",
   "metadata": {
    "papermill": {
     "duration": 0.012431,
     "end_time": "2024-09-13T18:15:54.707834",
     "exception": false,
     "start_time": "2024-09-13T18:15:54.695403",
     "status": "completed"
    },
    "tags": []
   },
   "source": [
    "## 1. Load the Dataset"
   ]
  },
  {
   "cell_type": "code",
   "execution_count": 3,
   "id": "294689cf",
   "metadata": {
    "execution": {
     "iopub.execute_input": "2024-09-13T18:15:54.737147Z",
     "iopub.status.busy": "2024-09-13T18:15:54.736019Z",
     "iopub.status.idle": "2024-09-13T18:15:56.544187Z",
     "shell.execute_reply": "2024-09-13T18:15:56.542992Z"
    },
    "papermill": {
     "duration": 1.825397,
     "end_time": "2024-09-13T18:15:56.547195",
     "exception": false,
     "start_time": "2024-09-13T18:15:54.721798",
     "status": "completed"
    },
    "tags": []
   },
   "outputs": [],
   "source": [
    "import pandas as pd\n",
    "\n",
    "# Load the datasets\n",
    "train_data = pd.read_csv('/kaggle/input/playground-series-s4e9/train.csv')  # Assuming train.csv contains training data\n",
    "test_data = pd.read_csv('/kaggle/input/playground-series-s4e9/test.csv')    # Assuming test.csv contains test data\n"
   ]
  },
  {
   "cell_type": "code",
   "execution_count": 4,
   "id": "53851244",
   "metadata": {
    "execution": {
     "iopub.execute_input": "2024-09-13T18:15:56.575068Z",
     "iopub.status.busy": "2024-09-13T18:15:56.574023Z",
     "iopub.status.idle": "2024-09-13T18:15:56.613109Z",
     "shell.execute_reply": "2024-09-13T18:15:56.611980Z"
    },
    "papermill": {
     "duration": 0.055767,
     "end_time": "2024-09-13T18:15:56.615765",
     "exception": false,
     "start_time": "2024-09-13T18:15:56.559998",
     "status": "completed"
    },
    "tags": []
   },
   "outputs": [
    {
     "data": {
      "text/html": [
       "<div>\n",
       "<style scoped>\n",
       "    .dataframe tbody tr th:only-of-type {\n",
       "        vertical-align: middle;\n",
       "    }\n",
       "\n",
       "    .dataframe tbody tr th {\n",
       "        vertical-align: top;\n",
       "    }\n",
       "\n",
       "    .dataframe thead th {\n",
       "        text-align: right;\n",
       "    }\n",
       "</style>\n",
       "<table border=\"1\" class=\"dataframe\">\n",
       "  <thead>\n",
       "    <tr style=\"text-align: right;\">\n",
       "      <th></th>\n",
       "      <th>id</th>\n",
       "      <th>brand</th>\n",
       "      <th>model</th>\n",
       "      <th>model_year</th>\n",
       "      <th>milage</th>\n",
       "      <th>fuel_type</th>\n",
       "      <th>engine</th>\n",
       "      <th>transmission</th>\n",
       "      <th>ext_col</th>\n",
       "      <th>int_col</th>\n",
       "      <th>accident</th>\n",
       "      <th>clean_title</th>\n",
       "      <th>price</th>\n",
       "    </tr>\n",
       "  </thead>\n",
       "  <tbody>\n",
       "    <tr>\n",
       "      <th>111913</th>\n",
       "      <td>111913</td>\n",
       "      <td>Audi</td>\n",
       "      <td>S4 3.0 Prestige</td>\n",
       "      <td>2012</td>\n",
       "      <td>108000</td>\n",
       "      <td>Gasoline</td>\n",
       "      <td>333.0HP 3.0L V6 Cylinder Engine Gasoline Fuel</td>\n",
       "      <td>7-Speed A/T</td>\n",
       "      <td>Blue</td>\n",
       "      <td>Black</td>\n",
       "      <td>None reported</td>\n",
       "      <td>Yes</td>\n",
       "      <td>20997</td>\n",
       "    </tr>\n",
       "    <tr>\n",
       "      <th>22339</th>\n",
       "      <td>22339</td>\n",
       "      <td>Audi</td>\n",
       "      <td>A4 2.0T Premium Plus</td>\n",
       "      <td>2015</td>\n",
       "      <td>96000</td>\n",
       "      <td>Gasoline</td>\n",
       "      <td>220.0HP 2.0L 4 Cylinder Engine Gasoline Fuel</td>\n",
       "      <td>A/T</td>\n",
       "      <td>Gray</td>\n",
       "      <td>Black</td>\n",
       "      <td>None reported</td>\n",
       "      <td>Yes</td>\n",
       "      <td>23000</td>\n",
       "    </tr>\n",
       "    <tr>\n",
       "      <th>137659</th>\n",
       "      <td>137659</td>\n",
       "      <td>Cadillac</td>\n",
       "      <td>XTS Luxury</td>\n",
       "      <td>2003</td>\n",
       "      <td>90000</td>\n",
       "      <td>Gasoline</td>\n",
       "      <td>275.0HP 4.6L 8 Cylinder Engine Gasoline Fuel</td>\n",
       "      <td>A/T</td>\n",
       "      <td>Blue</td>\n",
       "      <td>Brown</td>\n",
       "      <td>None reported</td>\n",
       "      <td>Yes</td>\n",
       "      <td>37500</td>\n",
       "    </tr>\n",
       "    <tr>\n",
       "      <th>36375</th>\n",
       "      <td>36375</td>\n",
       "      <td>Nissan</td>\n",
       "      <td>Versa 1.8 S</td>\n",
       "      <td>2012</td>\n",
       "      <td>125500</td>\n",
       "      <td>Gasoline</td>\n",
       "      <td>122.0HP 1.8L 4 Cylinder Engine Gasoline Fuel</td>\n",
       "      <td>A/T</td>\n",
       "      <td>Black</td>\n",
       "      <td>Black</td>\n",
       "      <td>None reported</td>\n",
       "      <td>Yes</td>\n",
       "      <td>9900</td>\n",
       "    </tr>\n",
       "    <tr>\n",
       "      <th>78111</th>\n",
       "      <td>78111</td>\n",
       "      <td>Ford</td>\n",
       "      <td>F-150 XLT</td>\n",
       "      <td>2021</td>\n",
       "      <td>26998</td>\n",
       "      <td>Gasoline</td>\n",
       "      <td>3.5L V6 24V PDI DOHC Twin Turbo</td>\n",
       "      <td>10-Speed Automatic</td>\n",
       "      <td>Gray</td>\n",
       "      <td>Medium Light Camel</td>\n",
       "      <td>None reported</td>\n",
       "      <td>Yes</td>\n",
       "      <td>47950</td>\n",
       "    </tr>\n",
       "  </tbody>\n",
       "</table>\n",
       "</div>"
      ],
      "text/plain": [
       "            id     brand                 model  model_year  milage fuel_type  \\\n",
       "111913  111913      Audi       S4 3.0 Prestige        2012  108000  Gasoline   \n",
       "22339    22339      Audi  A4 2.0T Premium Plus        2015   96000  Gasoline   \n",
       "137659  137659  Cadillac            XTS Luxury        2003   90000  Gasoline   \n",
       "36375    36375    Nissan           Versa 1.8 S        2012  125500  Gasoline   \n",
       "78111    78111      Ford             F-150 XLT        2021   26998  Gasoline   \n",
       "\n",
       "                                               engine        transmission  \\\n",
       "111913  333.0HP 3.0L V6 Cylinder Engine Gasoline Fuel         7-Speed A/T   \n",
       "22339    220.0HP 2.0L 4 Cylinder Engine Gasoline Fuel                 A/T   \n",
       "137659   275.0HP 4.6L 8 Cylinder Engine Gasoline Fuel                 A/T   \n",
       "36375    122.0HP 1.8L 4 Cylinder Engine Gasoline Fuel                 A/T   \n",
       "78111                 3.5L V6 24V PDI DOHC Twin Turbo  10-Speed Automatic   \n",
       "\n",
       "       ext_col             int_col       accident clean_title  price  \n",
       "111913    Blue               Black  None reported         Yes  20997  \n",
       "22339     Gray               Black  None reported         Yes  23000  \n",
       "137659    Blue               Brown  None reported         Yes  37500  \n",
       "36375    Black               Black  None reported         Yes   9900  \n",
       "78111     Gray  Medium Light Camel  None reported         Yes  47950  "
      ]
     },
     "execution_count": 4,
     "metadata": {},
     "output_type": "execute_result"
    }
   ],
   "source": [
    "train_data.sample(5)"
   ]
  },
  {
   "cell_type": "code",
   "execution_count": 5,
   "id": "737850be",
   "metadata": {
    "execution": {
     "iopub.execute_input": "2024-09-13T18:15:56.644243Z",
     "iopub.status.busy": "2024-09-13T18:15:56.643782Z",
     "iopub.status.idle": "2024-09-13T18:15:56.664684Z",
     "shell.execute_reply": "2024-09-13T18:15:56.663486Z"
    },
    "papermill": {
     "duration": 0.038088,
     "end_time": "2024-09-13T18:15:56.667030",
     "exception": false,
     "start_time": "2024-09-13T18:15:56.628942",
     "status": "completed"
    },
    "tags": []
   },
   "outputs": [
    {
     "data": {
      "text/html": [
       "<div>\n",
       "<style scoped>\n",
       "    .dataframe tbody tr th:only-of-type {\n",
       "        vertical-align: middle;\n",
       "    }\n",
       "\n",
       "    .dataframe tbody tr th {\n",
       "        vertical-align: top;\n",
       "    }\n",
       "\n",
       "    .dataframe thead th {\n",
       "        text-align: right;\n",
       "    }\n",
       "</style>\n",
       "<table border=\"1\" class=\"dataframe\">\n",
       "  <thead>\n",
       "    <tr style=\"text-align: right;\">\n",
       "      <th></th>\n",
       "      <th>id</th>\n",
       "      <th>brand</th>\n",
       "      <th>model</th>\n",
       "      <th>model_year</th>\n",
       "      <th>milage</th>\n",
       "      <th>fuel_type</th>\n",
       "      <th>engine</th>\n",
       "      <th>transmission</th>\n",
       "      <th>ext_col</th>\n",
       "      <th>int_col</th>\n",
       "      <th>accident</th>\n",
       "      <th>clean_title</th>\n",
       "    </tr>\n",
       "  </thead>\n",
       "  <tbody>\n",
       "    <tr>\n",
       "      <th>86822</th>\n",
       "      <td>275355</td>\n",
       "      <td>Kia</td>\n",
       "      <td>Sportage SX Turbo</td>\n",
       "      <td>2016</td>\n",
       "      <td>108559</td>\n",
       "      <td>Gasoline</td>\n",
       "      <td>2.4L I4 16V GDI DOHC</td>\n",
       "      <td>6-Speed Automatic</td>\n",
       "      <td>Hyper Red</td>\n",
       "      <td>Black</td>\n",
       "      <td>None reported</td>\n",
       "      <td>NaN</td>\n",
       "    </tr>\n",
       "    <tr>\n",
       "      <th>113455</th>\n",
       "      <td>301988</td>\n",
       "      <td>Chevrolet</td>\n",
       "      <td>Corvette Stingray w/3LT</td>\n",
       "      <td>2021</td>\n",
       "      <td>12000</td>\n",
       "      <td>Gasoline</td>\n",
       "      <td>490.0HP 6.2L 8 Cylinder Engine Gasoline Fuel</td>\n",
       "      <td>A/T</td>\n",
       "      <td>Blue</td>\n",
       "      <td>Black</td>\n",
       "      <td>None reported</td>\n",
       "      <td>Yes</td>\n",
       "    </tr>\n",
       "    <tr>\n",
       "      <th>56678</th>\n",
       "      <td>245211</td>\n",
       "      <td>Ford</td>\n",
       "      <td>Explorer XLT</td>\n",
       "      <td>2022</td>\n",
       "      <td>8794</td>\n",
       "      <td>Gasoline</td>\n",
       "      <td>300.0HP 2.3L 4 Cylinder Engine Gasoline Fuel</td>\n",
       "      <td>10-Speed A/T</td>\n",
       "      <td>White</td>\n",
       "      <td>Black</td>\n",
       "      <td>None reported</td>\n",
       "      <td>Yes</td>\n",
       "    </tr>\n",
       "    <tr>\n",
       "      <th>86597</th>\n",
       "      <td>275130</td>\n",
       "      <td>Ford</td>\n",
       "      <td>F-150 Lariat</td>\n",
       "      <td>2015</td>\n",
       "      <td>159500</td>\n",
       "      <td>Gasoline</td>\n",
       "      <td>365.0HP 3.5L V6 Cylinder Engine Gasoline Fuel</td>\n",
       "      <td>6-Speed A/T</td>\n",
       "      <td>White</td>\n",
       "      <td>Black</td>\n",
       "      <td>None reported</td>\n",
       "      <td>Yes</td>\n",
       "    </tr>\n",
       "    <tr>\n",
       "      <th>121547</th>\n",
       "      <td>310080</td>\n",
       "      <td>Porsche</td>\n",
       "      <td>718 Cayman GT4</td>\n",
       "      <td>2019</td>\n",
       "      <td>6581</td>\n",
       "      <td>Gasoline</td>\n",
       "      <td>414.0HP 4.0L Flat 6 Cylinder Engine Gasoline Fuel</td>\n",
       "      <td>7-Speed A/T</td>\n",
       "      <td>Black</td>\n",
       "      <td>Black</td>\n",
       "      <td>None reported</td>\n",
       "      <td>Yes</td>\n",
       "    </tr>\n",
       "  </tbody>\n",
       "</table>\n",
       "</div>"
      ],
      "text/plain": [
       "            id      brand                    model  model_year  milage  \\\n",
       "86822   275355        Kia        Sportage SX Turbo        2016  108559   \n",
       "113455  301988  Chevrolet  Corvette Stingray w/3LT        2021   12000   \n",
       "56678   245211       Ford             Explorer XLT        2022    8794   \n",
       "86597   275130       Ford             F-150 Lariat        2015  159500   \n",
       "121547  310080    Porsche           718 Cayman GT4        2019    6581   \n",
       "\n",
       "       fuel_type                                             engine  \\\n",
       "86822   Gasoline                               2.4L I4 16V GDI DOHC   \n",
       "113455  Gasoline       490.0HP 6.2L 8 Cylinder Engine Gasoline Fuel   \n",
       "56678   Gasoline       300.0HP 2.3L 4 Cylinder Engine Gasoline Fuel   \n",
       "86597   Gasoline      365.0HP 3.5L V6 Cylinder Engine Gasoline Fuel   \n",
       "121547  Gasoline  414.0HP 4.0L Flat 6 Cylinder Engine Gasoline Fuel   \n",
       "\n",
       "             transmission    ext_col int_col       accident clean_title  \n",
       "86822   6-Speed Automatic  Hyper Red   Black  None reported         NaN  \n",
       "113455                A/T       Blue   Black  None reported         Yes  \n",
       "56678        10-Speed A/T      White   Black  None reported         Yes  \n",
       "86597         6-Speed A/T      White   Black  None reported         Yes  \n",
       "121547        7-Speed A/T      Black   Black  None reported         Yes  "
      ]
     },
     "execution_count": 5,
     "metadata": {},
     "output_type": "execute_result"
    }
   ],
   "source": [
    "test_data.sample(5)"
   ]
  },
  {
   "cell_type": "markdown",
   "id": "bedf4107",
   "metadata": {
    "papermill": {
     "duration": 0.013308,
     "end_time": "2024-09-13T18:15:56.693811",
     "exception": false,
     "start_time": "2024-09-13T18:15:56.680503",
     "status": "completed"
    },
    "tags": []
   },
   "source": [
    "## 2. Data Preprocessing"
   ]
  },
  {
   "cell_type": "markdown",
   "id": "5eb4bace",
   "metadata": {
    "papermill": {
     "duration": 0.01314,
     "end_time": "2024-09-13T18:15:56.720339",
     "exception": false,
     "start_time": "2024-09-13T18:15:56.707199",
     "status": "completed"
    },
    "tags": []
   },
   "source": [
    "### Handling missing values"
   ]
  },
  {
   "cell_type": "code",
   "execution_count": 6,
   "id": "00b876c8",
   "metadata": {
    "execution": {
     "iopub.execute_input": "2024-09-13T18:15:56.749989Z",
     "iopub.status.busy": "2024-09-13T18:15:56.749574Z",
     "iopub.status.idle": "2024-09-13T18:15:56.935273Z",
     "shell.execute_reply": "2024-09-13T18:15:56.934175Z"
    },
    "papermill": {
     "duration": 0.203166,
     "end_time": "2024-09-13T18:15:56.938023",
     "exception": false,
     "start_time": "2024-09-13T18:15:56.734857",
     "status": "completed"
    },
    "tags": []
   },
   "outputs": [
    {
     "name": "stdout",
     "output_type": "stream",
     "text": [
      "id                  0\n",
      "brand               0\n",
      "model               0\n",
      "model_year          0\n",
      "milage              0\n",
      "fuel_type        5083\n",
      "engine              0\n",
      "transmission        0\n",
      "ext_col             0\n",
      "int_col             0\n",
      "accident         2452\n",
      "clean_title     21419\n",
      "price               0\n",
      "dtype: int64\n"
     ]
    }
   ],
   "source": [
    "# Check for missing values\n",
    "print(train_data.isnull().sum())"
   ]
  },
  {
   "cell_type": "code",
   "execution_count": 7,
   "id": "058aab44",
   "metadata": {
    "execution": {
     "iopub.execute_input": "2024-09-13T18:15:56.967017Z",
     "iopub.status.busy": "2024-09-13T18:15:56.966593Z",
     "iopub.status.idle": "2024-09-13T18:15:57.160156Z",
     "shell.execute_reply": "2024-09-13T18:15:57.158769Z"
    },
    "papermill": {
     "duration": 0.211089,
     "end_time": "2024-09-13T18:15:57.162690",
     "exception": false,
     "start_time": "2024-09-13T18:15:56.951601",
     "status": "completed"
    },
    "tags": []
   },
   "outputs": [
    {
     "name": "stdout",
     "output_type": "stream",
     "text": [
      "id               0.000000\n",
      "brand            0.000000\n",
      "model            0.000000\n",
      "model_year       0.000000\n",
      "milage           0.000000\n",
      "fuel_type        2.696080\n",
      "engine           0.000000\n",
      "transmission     0.000000\n",
      "ext_col          0.000000\n",
      "int_col          0.000000\n",
      "accident         1.300568\n",
      "clean_title     11.360876\n",
      "price            0.000000\n",
      "dtype: float64\n"
     ]
    }
   ],
   "source": [
    "# Check for percentage of  missing values\n",
    "print(train_data.isnull().sum()*100/len(train_data))\n"
   ]
  },
  {
   "cell_type": "code",
   "execution_count": 8,
   "id": "338af92a",
   "metadata": {
    "execution": {
     "iopub.execute_input": "2024-09-13T18:15:57.192578Z",
     "iopub.status.busy": "2024-09-13T18:15:57.192077Z",
     "iopub.status.idle": "2024-09-13T18:15:57.197463Z",
     "shell.execute_reply": "2024-09-13T18:15:57.196298Z"
    },
    "papermill": {
     "duration": 0.023398,
     "end_time": "2024-09-13T18:15:57.199850",
     "exception": false,
     "start_time": "2024-09-13T18:15:57.176452",
     "status": "completed"
    },
    "tags": []
   },
   "outputs": [],
   "source": [
    "# Impute missing values for numerical features\n",
    "#train_data.fillna(train_data.median(), inplace=True)\n",
    "\n",
    "# Impute missing values for categorical features\n",
    "#train_data.fillna(train_data.mode().iloc[0], inplace=True)\n"
   ]
  },
  {
   "cell_type": "markdown",
   "id": "d4944a89",
   "metadata": {
    "papermill": {
     "duration": 0.013448,
     "end_time": "2024-09-13T18:15:57.227133",
     "exception": false,
     "start_time": "2024-09-13T18:15:57.213685",
     "status": "completed"
    },
    "tags": []
   },
   "source": [
    "The error occurs because some columns in dataset are categorical (e.g., car make, model, fuel type, color, etc.), and the machine learning algorithm using expects numeric input. To fix this,we'll need to convert the categorical data into a numeric format that the model can handle.\n",
    "\n",
    "We can use either **Label Encoding** or **One-Hot Encoding** for this conversion depending on whether the categorical variable is *ordinal* or *nominal*.\n",
    "\n",
    "Here’s how we can correct the code by applying the appropriate encoding to the categorical features:\n",
    "\n",
    "**1. Label Encoding for Ordinal Categorical Variables**\n",
    "\n",
    "*For features that have a meaningful order (like 'low', 'medium', 'high'), use LabelEncoder.*\n",
    "\n",
    "**2. One-Hot Encoding for Nominal Categorical Variables**\n",
    "\n",
    "*For features that don’t have any specific order (like car brand, fuel type, etc.), use OneHotEncoder.*"
   ]
  },
  {
   "cell_type": "markdown",
   "id": "2ccf7e83",
   "metadata": {
    "papermill": {
     "duration": 0.013231,
     "end_time": "2024-09-13T18:15:57.253913",
     "exception": false,
     "start_time": "2024-09-13T18:15:57.240682",
     "status": "completed"
    },
    "tags": []
   },
   "source": [
    "### Feature Encoding\n",
    "\n",
    "`Convert categorical features into numeric using one-hot encoding or label encoding`"
   ]
  },
  {
   "cell_type": "code",
   "execution_count": 9,
   "id": "79e677c0",
   "metadata": {
    "execution": {
     "iopub.execute_input": "2024-09-13T18:15:57.283321Z",
     "iopub.status.busy": "2024-09-13T18:15:57.282459Z",
     "iopub.status.idle": "2024-09-13T18:15:58.572685Z",
     "shell.execute_reply": "2024-09-13T18:15:58.571428Z"
    },
    "papermill": {
     "duration": 1.307923,
     "end_time": "2024-09-13T18:15:58.575332",
     "exception": false,
     "start_time": "2024-09-13T18:15:57.267409",
     "status": "completed"
    },
    "tags": []
   },
   "outputs": [
    {
     "data": {
      "text/plain": [
       "Index(['brand', 'model', 'fuel_type', 'engine', 'transmission', 'ext_col',\n",
       "       'int_col', 'accident', 'clean_title'],\n",
       "      dtype='object')"
      ]
     },
     "execution_count": 9,
     "metadata": {},
     "output_type": "execute_result"
    }
   ],
   "source": [
    "from sklearn.preprocessing import LabelEncoder, OneHotEncoder\n",
    "\n",
    "# Identify categorical columns\n",
    "categorical_cols = train_data.select_dtypes(include=['object']).columns\n",
    "categorical_cols\n"
   ]
  },
  {
   "cell_type": "code",
   "execution_count": 10,
   "id": "b5bbef6f",
   "metadata": {
    "execution": {
     "iopub.execute_input": "2024-09-13T18:15:58.605227Z",
     "iopub.status.busy": "2024-09-13T18:15:58.604631Z",
     "iopub.status.idle": "2024-09-13T18:16:00.391926Z",
     "shell.execute_reply": "2024-09-13T18:16:00.390821Z"
    },
    "papermill": {
     "duration": 1.80555,
     "end_time": "2024-09-13T18:16:00.394793",
     "exception": false,
     "start_time": "2024-09-13T18:15:58.589243",
     "status": "completed"
    },
    "tags": []
   },
   "outputs": [],
   "source": [
    "# Apply OneHotEncoding for nominal categorical variables (e.g., car make, fuel type, etc.)\n",
    "train_data = pd.get_dummies(train_data, columns=categorical_cols, drop_first=True)\n",
    "test_data = pd.get_dummies(test_data, columns=categorical_cols, drop_first=True)"
   ]
  },
  {
   "cell_type": "markdown",
   "id": "81cb5bf8",
   "metadata": {
    "papermill": {
     "duration": 0.01339,
     "end_time": "2024-09-13T18:16:00.421994",
     "exception": false,
     "start_time": "2024-09-13T18:16:00.408604",
     "status": "completed"
    },
    "tags": []
   },
   "source": [
    "**pd.get_dummies():** This function converts categorical columns into multiple binary (0/1) columns (one-hot encoding), which allows the model to interpret them.\n",
    "\n",
    "**drop_first=True:** Drops the first category to avoid multicollinearity.\n",
    "\n",
    "**Reindexing Test Data:** After applying one-hot encoding, the columns generated in the training and test sets may differ. Using reindex ensures that the test set has the same columns as the training set, with missing columns filled with zeros.\n",
    "\n",
    "**Handling Target Column in Test Data:** Since the test set does not have the price column, we remove it from the test set to avoid errors during prediction."
   ]
  },
  {
   "cell_type": "code",
   "execution_count": 11,
   "id": "2acc287d",
   "metadata": {
    "execution": {
     "iopub.execute_input": "2024-09-13T18:16:00.451149Z",
     "iopub.status.busy": "2024-09-13T18:16:00.450702Z",
     "iopub.status.idle": "2024-09-13T18:16:00.482348Z",
     "shell.execute_reply": "2024-09-13T18:16:00.481289Z"
    },
    "papermill": {
     "duration": 0.049104,
     "end_time": "2024-09-13T18:16:00.484787",
     "exception": false,
     "start_time": "2024-09-13T18:16:00.435683",
     "status": "completed"
    },
    "tags": []
   },
   "outputs": [
    {
     "data": {
      "text/html": [
       "<div>\n",
       "<style scoped>\n",
       "    .dataframe tbody tr th:only-of-type {\n",
       "        vertical-align: middle;\n",
       "    }\n",
       "\n",
       "    .dataframe tbody tr th {\n",
       "        vertical-align: top;\n",
       "    }\n",
       "\n",
       "    .dataframe thead th {\n",
       "        text-align: right;\n",
       "    }\n",
       "</style>\n",
       "<table border=\"1\" class=\"dataframe\">\n",
       "  <thead>\n",
       "    <tr style=\"text-align: right;\">\n",
       "      <th></th>\n",
       "      <th>id</th>\n",
       "      <th>model_year</th>\n",
       "      <th>milage</th>\n",
       "      <th>price</th>\n",
       "      <th>brand_Alfa</th>\n",
       "      <th>brand_Aston</th>\n",
       "      <th>brand_Audi</th>\n",
       "      <th>brand_BMW</th>\n",
       "      <th>brand_Bentley</th>\n",
       "      <th>brand_Bugatti</th>\n",
       "      <th>...</th>\n",
       "      <th>int_col_Tupelo</th>\n",
       "      <th>int_col_Very Light Cashmere</th>\n",
       "      <th>int_col_WHITE</th>\n",
       "      <th>int_col_Walnut</th>\n",
       "      <th>int_col_Whisper Beige</th>\n",
       "      <th>int_col_White</th>\n",
       "      <th>int_col_White / Brown</th>\n",
       "      <th>int_col_Yellow</th>\n",
       "      <th>int_col_–</th>\n",
       "      <th>accident_None reported</th>\n",
       "    </tr>\n",
       "  </thead>\n",
       "  <tbody>\n",
       "    <tr>\n",
       "      <th>14185</th>\n",
       "      <td>14185</td>\n",
       "      <td>2018</td>\n",
       "      <td>58000</td>\n",
       "      <td>59000</td>\n",
       "      <td>False</td>\n",
       "      <td>False</td>\n",
       "      <td>False</td>\n",
       "      <td>False</td>\n",
       "      <td>False</td>\n",
       "      <td>False</td>\n",
       "      <td>...</td>\n",
       "      <td>False</td>\n",
       "      <td>False</td>\n",
       "      <td>False</td>\n",
       "      <td>False</td>\n",
       "      <td>False</td>\n",
       "      <td>False</td>\n",
       "      <td>False</td>\n",
       "      <td>False</td>\n",
       "      <td>False</td>\n",
       "      <td>True</td>\n",
       "    </tr>\n",
       "    <tr>\n",
       "      <th>79146</th>\n",
       "      <td>79146</td>\n",
       "      <td>2016</td>\n",
       "      <td>78110</td>\n",
       "      <td>28000</td>\n",
       "      <td>False</td>\n",
       "      <td>False</td>\n",
       "      <td>False</td>\n",
       "      <td>False</td>\n",
       "      <td>False</td>\n",
       "      <td>False</td>\n",
       "      <td>...</td>\n",
       "      <td>False</td>\n",
       "      <td>False</td>\n",
       "      <td>False</td>\n",
       "      <td>False</td>\n",
       "      <td>False</td>\n",
       "      <td>False</td>\n",
       "      <td>False</td>\n",
       "      <td>False</td>\n",
       "      <td>False</td>\n",
       "      <td>True</td>\n",
       "    </tr>\n",
       "    <tr>\n",
       "      <th>167041</th>\n",
       "      <td>167041</td>\n",
       "      <td>2023</td>\n",
       "      <td>3000</td>\n",
       "      <td>94000</td>\n",
       "      <td>False</td>\n",
       "      <td>False</td>\n",
       "      <td>False</td>\n",
       "      <td>False</td>\n",
       "      <td>False</td>\n",
       "      <td>False</td>\n",
       "      <td>...</td>\n",
       "      <td>False</td>\n",
       "      <td>False</td>\n",
       "      <td>False</td>\n",
       "      <td>False</td>\n",
       "      <td>False</td>\n",
       "      <td>False</td>\n",
       "      <td>False</td>\n",
       "      <td>False</td>\n",
       "      <td>False</td>\n",
       "      <td>True</td>\n",
       "    </tr>\n",
       "    <tr>\n",
       "      <th>109575</th>\n",
       "      <td>109575</td>\n",
       "      <td>2022</td>\n",
       "      <td>16184</td>\n",
       "      <td>18688</td>\n",
       "      <td>False</td>\n",
       "      <td>False</td>\n",
       "      <td>False</td>\n",
       "      <td>False</td>\n",
       "      <td>False</td>\n",
       "      <td>False</td>\n",
       "      <td>...</td>\n",
       "      <td>False</td>\n",
       "      <td>False</td>\n",
       "      <td>False</td>\n",
       "      <td>False</td>\n",
       "      <td>False</td>\n",
       "      <td>False</td>\n",
       "      <td>False</td>\n",
       "      <td>False</td>\n",
       "      <td>False</td>\n",
       "      <td>True</td>\n",
       "    </tr>\n",
       "    <tr>\n",
       "      <th>135968</th>\n",
       "      <td>135968</td>\n",
       "      <td>2022</td>\n",
       "      <td>32437</td>\n",
       "      <td>75500</td>\n",
       "      <td>False</td>\n",
       "      <td>False</td>\n",
       "      <td>False</td>\n",
       "      <td>False</td>\n",
       "      <td>False</td>\n",
       "      <td>False</td>\n",
       "      <td>...</td>\n",
       "      <td>False</td>\n",
       "      <td>False</td>\n",
       "      <td>False</td>\n",
       "      <td>False</td>\n",
       "      <td>False</td>\n",
       "      <td>False</td>\n",
       "      <td>False</td>\n",
       "      <td>False</td>\n",
       "      <td>False</td>\n",
       "      <td>True</td>\n",
       "    </tr>\n",
       "  </tbody>\n",
       "</table>\n",
       "<p>5 rows × 3603 columns</p>\n",
       "</div>"
      ],
      "text/plain": [
       "            id  model_year  milage  price  brand_Alfa  brand_Aston  \\\n",
       "14185    14185        2018   58000  59000       False        False   \n",
       "79146    79146        2016   78110  28000       False        False   \n",
       "167041  167041        2023    3000  94000       False        False   \n",
       "109575  109575        2022   16184  18688       False        False   \n",
       "135968  135968        2022   32437  75500       False        False   \n",
       "\n",
       "        brand_Audi  brand_BMW  brand_Bentley  brand_Bugatti  ...  \\\n",
       "14185        False      False          False          False  ...   \n",
       "79146        False      False          False          False  ...   \n",
       "167041       False      False          False          False  ...   \n",
       "109575       False      False          False          False  ...   \n",
       "135968       False      False          False          False  ...   \n",
       "\n",
       "        int_col_Tupelo  int_col_Very Light Cashmere  int_col_WHITE  \\\n",
       "14185            False                        False          False   \n",
       "79146            False                        False          False   \n",
       "167041           False                        False          False   \n",
       "109575           False                        False          False   \n",
       "135968           False                        False          False   \n",
       "\n",
       "        int_col_Walnut  int_col_Whisper Beige  int_col_White  \\\n",
       "14185            False                  False          False   \n",
       "79146            False                  False          False   \n",
       "167041           False                  False          False   \n",
       "109575           False                  False          False   \n",
       "135968           False                  False          False   \n",
       "\n",
       "        int_col_White / Brown  int_col_Yellow  int_col_–  \\\n",
       "14185                   False           False      False   \n",
       "79146                   False           False      False   \n",
       "167041                  False           False      False   \n",
       "109575                  False           False      False   \n",
       "135968                  False           False      False   \n",
       "\n",
       "        accident_None reported  \n",
       "14185                     True  \n",
       "79146                     True  \n",
       "167041                    True  \n",
       "109575                    True  \n",
       "135968                    True  \n",
       "\n",
       "[5 rows x 3603 columns]"
      ]
     },
     "execution_count": 11,
     "metadata": {},
     "output_type": "execute_result"
    }
   ],
   "source": [
    "train_data.sample(5)"
   ]
  },
  {
   "cell_type": "code",
   "execution_count": 12,
   "id": "d148628f",
   "metadata": {
    "execution": {
     "iopub.execute_input": "2024-09-13T18:16:00.515629Z",
     "iopub.status.busy": "2024-09-13T18:16:00.515184Z",
     "iopub.status.idle": "2024-09-13T18:16:00.545741Z",
     "shell.execute_reply": "2024-09-13T18:16:00.544484Z"
    },
    "papermill": {
     "duration": 0.048956,
     "end_time": "2024-09-13T18:16:00.548334",
     "exception": false,
     "start_time": "2024-09-13T18:16:00.499378",
     "status": "completed"
    },
    "tags": []
   },
   "outputs": [
    {
     "data": {
      "text/html": [
       "<div>\n",
       "<style scoped>\n",
       "    .dataframe tbody tr th:only-of-type {\n",
       "        vertical-align: middle;\n",
       "    }\n",
       "\n",
       "    .dataframe tbody tr th {\n",
       "        vertical-align: top;\n",
       "    }\n",
       "\n",
       "    .dataframe thead th {\n",
       "        text-align: right;\n",
       "    }\n",
       "</style>\n",
       "<table border=\"1\" class=\"dataframe\">\n",
       "  <thead>\n",
       "    <tr style=\"text-align: right;\">\n",
       "      <th></th>\n",
       "      <th>id</th>\n",
       "      <th>model_year</th>\n",
       "      <th>milage</th>\n",
       "      <th>brand_Alfa</th>\n",
       "      <th>brand_Aston</th>\n",
       "      <th>brand_Audi</th>\n",
       "      <th>brand_BMW</th>\n",
       "      <th>brand_Bentley</th>\n",
       "      <th>brand_Bugatti</th>\n",
       "      <th>brand_Buick</th>\n",
       "      <th>...</th>\n",
       "      <th>int_col_Tupelo</th>\n",
       "      <th>int_col_Very Light Cashmere</th>\n",
       "      <th>int_col_WHITE</th>\n",
       "      <th>int_col_Walnut</th>\n",
       "      <th>int_col_Whisper Beige</th>\n",
       "      <th>int_col_White</th>\n",
       "      <th>int_col_White / Brown</th>\n",
       "      <th>int_col_Yellow</th>\n",
       "      <th>int_col_–</th>\n",
       "      <th>accident_None reported</th>\n",
       "    </tr>\n",
       "  </thead>\n",
       "  <tbody>\n",
       "    <tr>\n",
       "      <th>107176</th>\n",
       "      <td>295709</td>\n",
       "      <td>2021</td>\n",
       "      <td>13800</td>\n",
       "      <td>False</td>\n",
       "      <td>False</td>\n",
       "      <td>False</td>\n",
       "      <td>False</td>\n",
       "      <td>False</td>\n",
       "      <td>False</td>\n",
       "      <td>False</td>\n",
       "      <td>...</td>\n",
       "      <td>False</td>\n",
       "      <td>False</td>\n",
       "      <td>False</td>\n",
       "      <td>False</td>\n",
       "      <td>False</td>\n",
       "      <td>False</td>\n",
       "      <td>False</td>\n",
       "      <td>False</td>\n",
       "      <td>False</td>\n",
       "      <td>True</td>\n",
       "    </tr>\n",
       "    <tr>\n",
       "      <th>43753</th>\n",
       "      <td>232286</td>\n",
       "      <td>2019</td>\n",
       "      <td>111000</td>\n",
       "      <td>False</td>\n",
       "      <td>False</td>\n",
       "      <td>False</td>\n",
       "      <td>False</td>\n",
       "      <td>False</td>\n",
       "      <td>False</td>\n",
       "      <td>False</td>\n",
       "      <td>...</td>\n",
       "      <td>False</td>\n",
       "      <td>False</td>\n",
       "      <td>False</td>\n",
       "      <td>False</td>\n",
       "      <td>False</td>\n",
       "      <td>False</td>\n",
       "      <td>False</td>\n",
       "      <td>False</td>\n",
       "      <td>False</td>\n",
       "      <td>False</td>\n",
       "    </tr>\n",
       "    <tr>\n",
       "      <th>21984</th>\n",
       "      <td>210517</td>\n",
       "      <td>2017</td>\n",
       "      <td>15600</td>\n",
       "      <td>False</td>\n",
       "      <td>False</td>\n",
       "      <td>False</td>\n",
       "      <td>False</td>\n",
       "      <td>False</td>\n",
       "      <td>False</td>\n",
       "      <td>False</td>\n",
       "      <td>...</td>\n",
       "      <td>False</td>\n",
       "      <td>False</td>\n",
       "      <td>False</td>\n",
       "      <td>False</td>\n",
       "      <td>False</td>\n",
       "      <td>False</td>\n",
       "      <td>False</td>\n",
       "      <td>False</td>\n",
       "      <td>False</td>\n",
       "      <td>True</td>\n",
       "    </tr>\n",
       "    <tr>\n",
       "      <th>42100</th>\n",
       "      <td>230633</td>\n",
       "      <td>2023</td>\n",
       "      <td>8200</td>\n",
       "      <td>False</td>\n",
       "      <td>False</td>\n",
       "      <td>False</td>\n",
       "      <td>False</td>\n",
       "      <td>False</td>\n",
       "      <td>False</td>\n",
       "      <td>False</td>\n",
       "      <td>...</td>\n",
       "      <td>False</td>\n",
       "      <td>False</td>\n",
       "      <td>False</td>\n",
       "      <td>False</td>\n",
       "      <td>False</td>\n",
       "      <td>False</td>\n",
       "      <td>False</td>\n",
       "      <td>False</td>\n",
       "      <td>False</td>\n",
       "      <td>True</td>\n",
       "    </tr>\n",
       "    <tr>\n",
       "      <th>11343</th>\n",
       "      <td>199876</td>\n",
       "      <td>1998</td>\n",
       "      <td>98000</td>\n",
       "      <td>False</td>\n",
       "      <td>False</td>\n",
       "      <td>False</td>\n",
       "      <td>True</td>\n",
       "      <td>False</td>\n",
       "      <td>False</td>\n",
       "      <td>False</td>\n",
       "      <td>...</td>\n",
       "      <td>False</td>\n",
       "      <td>False</td>\n",
       "      <td>False</td>\n",
       "      <td>False</td>\n",
       "      <td>False</td>\n",
       "      <td>False</td>\n",
       "      <td>False</td>\n",
       "      <td>False</td>\n",
       "      <td>False</td>\n",
       "      <td>False</td>\n",
       "    </tr>\n",
       "  </tbody>\n",
       "</table>\n",
       "<p>5 rows × 3592 columns</p>\n",
       "</div>"
      ],
      "text/plain": [
       "            id  model_year  milage  brand_Alfa  brand_Aston  brand_Audi  \\\n",
       "107176  295709        2021   13800       False        False       False   \n",
       "43753   232286        2019  111000       False        False       False   \n",
       "21984   210517        2017   15600       False        False       False   \n",
       "42100   230633        2023    8200       False        False       False   \n",
       "11343   199876        1998   98000       False        False       False   \n",
       "\n",
       "        brand_BMW  brand_Bentley  brand_Bugatti  brand_Buick  ...  \\\n",
       "107176      False          False          False        False  ...   \n",
       "43753       False          False          False        False  ...   \n",
       "21984       False          False          False        False  ...   \n",
       "42100       False          False          False        False  ...   \n",
       "11343        True          False          False        False  ...   \n",
       "\n",
       "        int_col_Tupelo  int_col_Very Light Cashmere  int_col_WHITE  \\\n",
       "107176           False                        False          False   \n",
       "43753            False                        False          False   \n",
       "21984            False                        False          False   \n",
       "42100            False                        False          False   \n",
       "11343            False                        False          False   \n",
       "\n",
       "        int_col_Walnut  int_col_Whisper Beige  int_col_White  \\\n",
       "107176           False                  False          False   \n",
       "43753            False                  False          False   \n",
       "21984            False                  False          False   \n",
       "42100            False                  False          False   \n",
       "11343            False                  False          False   \n",
       "\n",
       "        int_col_White / Brown  int_col_Yellow  int_col_–  \\\n",
       "107176                  False           False      False   \n",
       "43753                   False           False      False   \n",
       "21984                   False           False      False   \n",
       "42100                   False           False      False   \n",
       "11343                   False           False      False   \n",
       "\n",
       "        accident_None reported  \n",
       "107176                    True  \n",
       "43753                    False  \n",
       "21984                     True  \n",
       "42100                     True  \n",
       "11343                    False  \n",
       "\n",
       "[5 rows x 3592 columns]"
      ]
     },
     "execution_count": 12,
     "metadata": {},
     "output_type": "execute_result"
    }
   ],
   "source": [
    "test_data.sample(5)"
   ]
  },
  {
   "cell_type": "code",
   "execution_count": 13,
   "id": "9c389f63",
   "metadata": {
    "execution": {
     "iopub.execute_input": "2024-09-13T18:16:00.580214Z",
     "iopub.status.busy": "2024-09-13T18:16:00.579744Z",
     "iopub.status.idle": "2024-09-13T18:16:00.809658Z",
     "shell.execute_reply": "2024-09-13T18:16:00.808392Z"
    },
    "papermill": {
     "duration": 0.249288,
     "end_time": "2024-09-13T18:16:00.812420",
     "exception": false,
     "start_time": "2024-09-13T18:16:00.563132",
     "status": "completed"
    },
    "tags": []
   },
   "outputs": [
    {
     "data": {
      "text/html": [
       "<div>\n",
       "<style scoped>\n",
       "    .dataframe tbody tr th:only-of-type {\n",
       "        vertical-align: middle;\n",
       "    }\n",
       "\n",
       "    .dataframe tbody tr th {\n",
       "        vertical-align: top;\n",
       "    }\n",
       "\n",
       "    .dataframe thead th {\n",
       "        text-align: right;\n",
       "    }\n",
       "</style>\n",
       "<table border=\"1\" class=\"dataframe\">\n",
       "  <thead>\n",
       "    <tr style=\"text-align: right;\">\n",
       "      <th></th>\n",
       "      <th>id</th>\n",
       "      <th>model_year</th>\n",
       "      <th>milage</th>\n",
       "      <th>price</th>\n",
       "      <th>brand_Alfa</th>\n",
       "      <th>brand_Aston</th>\n",
       "      <th>brand_Audi</th>\n",
       "      <th>brand_BMW</th>\n",
       "      <th>brand_Bentley</th>\n",
       "      <th>brand_Bugatti</th>\n",
       "      <th>...</th>\n",
       "      <th>int_col_Tupelo</th>\n",
       "      <th>int_col_Very Light Cashmere</th>\n",
       "      <th>int_col_WHITE</th>\n",
       "      <th>int_col_Walnut</th>\n",
       "      <th>int_col_Whisper Beige</th>\n",
       "      <th>int_col_White</th>\n",
       "      <th>int_col_White / Brown</th>\n",
       "      <th>int_col_Yellow</th>\n",
       "      <th>int_col_–</th>\n",
       "      <th>accident_None reported</th>\n",
       "    </tr>\n",
       "  </thead>\n",
       "  <tbody>\n",
       "    <tr>\n",
       "      <th>30584</th>\n",
       "      <td>219117</td>\n",
       "      <td>2016</td>\n",
       "      <td>72500</td>\n",
       "      <td>0</td>\n",
       "      <td>False</td>\n",
       "      <td>False</td>\n",
       "      <td>False</td>\n",
       "      <td>False</td>\n",
       "      <td>False</td>\n",
       "      <td>False</td>\n",
       "      <td>...</td>\n",
       "      <td>False</td>\n",
       "      <td>False</td>\n",
       "      <td>False</td>\n",
       "      <td>False</td>\n",
       "      <td>False</td>\n",
       "      <td>False</td>\n",
       "      <td>False</td>\n",
       "      <td>False</td>\n",
       "      <td>False</td>\n",
       "      <td>True</td>\n",
       "    </tr>\n",
       "    <tr>\n",
       "      <th>86644</th>\n",
       "      <td>275177</td>\n",
       "      <td>2016</td>\n",
       "      <td>84352</td>\n",
       "      <td>0</td>\n",
       "      <td>False</td>\n",
       "      <td>False</td>\n",
       "      <td>False</td>\n",
       "      <td>False</td>\n",
       "      <td>False</td>\n",
       "      <td>False</td>\n",
       "      <td>...</td>\n",
       "      <td>False</td>\n",
       "      <td>False</td>\n",
       "      <td>False</td>\n",
       "      <td>False</td>\n",
       "      <td>False</td>\n",
       "      <td>False</td>\n",
       "      <td>False</td>\n",
       "      <td>False</td>\n",
       "      <td>False</td>\n",
       "      <td>True</td>\n",
       "    </tr>\n",
       "    <tr>\n",
       "      <th>3695</th>\n",
       "      <td>192228</td>\n",
       "      <td>2008</td>\n",
       "      <td>127500</td>\n",
       "      <td>0</td>\n",
       "      <td>False</td>\n",
       "      <td>False</td>\n",
       "      <td>False</td>\n",
       "      <td>False</td>\n",
       "      <td>False</td>\n",
       "      <td>False</td>\n",
       "      <td>...</td>\n",
       "      <td>False</td>\n",
       "      <td>False</td>\n",
       "      <td>False</td>\n",
       "      <td>False</td>\n",
       "      <td>False</td>\n",
       "      <td>False</td>\n",
       "      <td>False</td>\n",
       "      <td>False</td>\n",
       "      <td>False</td>\n",
       "      <td>True</td>\n",
       "    </tr>\n",
       "    <tr>\n",
       "      <th>55349</th>\n",
       "      <td>243882</td>\n",
       "      <td>2009</td>\n",
       "      <td>162950</td>\n",
       "      <td>0</td>\n",
       "      <td>False</td>\n",
       "      <td>False</td>\n",
       "      <td>False</td>\n",
       "      <td>False</td>\n",
       "      <td>False</td>\n",
       "      <td>False</td>\n",
       "      <td>...</td>\n",
       "      <td>False</td>\n",
       "      <td>False</td>\n",
       "      <td>False</td>\n",
       "      <td>False</td>\n",
       "      <td>False</td>\n",
       "      <td>False</td>\n",
       "      <td>False</td>\n",
       "      <td>False</td>\n",
       "      <td>False</td>\n",
       "      <td>True</td>\n",
       "    </tr>\n",
       "    <tr>\n",
       "      <th>51667</th>\n",
       "      <td>240200</td>\n",
       "      <td>2013</td>\n",
       "      <td>120000</td>\n",
       "      <td>0</td>\n",
       "      <td>False</td>\n",
       "      <td>False</td>\n",
       "      <td>False</td>\n",
       "      <td>False</td>\n",
       "      <td>False</td>\n",
       "      <td>False</td>\n",
       "      <td>...</td>\n",
       "      <td>False</td>\n",
       "      <td>False</td>\n",
       "      <td>False</td>\n",
       "      <td>False</td>\n",
       "      <td>False</td>\n",
       "      <td>False</td>\n",
       "      <td>False</td>\n",
       "      <td>False</td>\n",
       "      <td>False</td>\n",
       "      <td>True</td>\n",
       "    </tr>\n",
       "  </tbody>\n",
       "</table>\n",
       "<p>5 rows × 3603 columns</p>\n",
       "</div>"
      ],
      "text/plain": [
       "           id  model_year  milage  price  brand_Alfa  brand_Aston  brand_Audi  \\\n",
       "30584  219117        2016   72500      0       False        False       False   \n",
       "86644  275177        2016   84352      0       False        False       False   \n",
       "3695   192228        2008  127500      0       False        False       False   \n",
       "55349  243882        2009  162950      0       False        False       False   \n",
       "51667  240200        2013  120000      0       False        False       False   \n",
       "\n",
       "       brand_BMW  brand_Bentley  brand_Bugatti  ...  int_col_Tupelo  \\\n",
       "30584      False          False          False  ...           False   \n",
       "86644      False          False          False  ...           False   \n",
       "3695       False          False          False  ...           False   \n",
       "55349      False          False          False  ...           False   \n",
       "51667      False          False          False  ...           False   \n",
       "\n",
       "       int_col_Very Light Cashmere  int_col_WHITE  int_col_Walnut  \\\n",
       "30584                        False          False           False   \n",
       "86644                        False          False           False   \n",
       "3695                         False          False           False   \n",
       "55349                        False          False           False   \n",
       "51667                        False          False           False   \n",
       "\n",
       "       int_col_Whisper Beige  int_col_White  int_col_White / Brown  \\\n",
       "30584                  False          False                  False   \n",
       "86644                  False          False                  False   \n",
       "3695                   False          False                  False   \n",
       "55349                  False          False                  False   \n",
       "51667                  False          False                  False   \n",
       "\n",
       "       int_col_Yellow  int_col_–  accident_None reported  \n",
       "30584           False      False                    True  \n",
       "86644           False      False                    True  \n",
       "3695            False      False                    True  \n",
       "55349           False      False                    True  \n",
       "51667           False      False                    True  \n",
       "\n",
       "[5 rows x 3603 columns]"
      ]
     },
     "execution_count": 13,
     "metadata": {},
     "output_type": "execute_result"
    }
   ],
   "source": [
    "# Align columns of test data with training data (since one-hot encoding can produce different sets of columns)\n",
    "test_data = test_data.reindex(columns=train_data.columns, fill_value=0)\n",
    "test_data.sample(5)"
   ]
  },
  {
   "cell_type": "code",
   "execution_count": 14,
   "id": "fb546e2a",
   "metadata": {
    "execution": {
     "iopub.execute_input": "2024-09-13T18:16:00.845220Z",
     "iopub.status.busy": "2024-09-13T18:16:00.844767Z",
     "iopub.status.idle": "2024-09-13T18:16:01.006508Z",
     "shell.execute_reply": "2024-09-13T18:16:01.005437Z"
    },
    "papermill": {
     "duration": 0.18146,
     "end_time": "2024-09-13T18:16:01.009326",
     "exception": false,
     "start_time": "2024-09-13T18:16:00.827866",
     "status": "completed"
    },
    "tags": []
   },
   "outputs": [],
   "source": [
    "# Drop 'price' column from test data as it's not available in test\n",
    "test_data.drop(columns=['price'], errors='ignore', inplace=True)"
   ]
  },
  {
   "cell_type": "code",
   "execution_count": 15,
   "id": "0b5e42c2",
   "metadata": {
    "execution": {
     "iopub.execute_input": "2024-09-13T18:16:01.041690Z",
     "iopub.status.busy": "2024-09-13T18:16:01.041261Z",
     "iopub.status.idle": "2024-09-13T18:16:01.311141Z",
     "shell.execute_reply": "2024-09-13T18:16:01.309686Z"
    },
    "papermill": {
     "duration": 0.289143,
     "end_time": "2024-09-13T18:16:01.313794",
     "exception": false,
     "start_time": "2024-09-13T18:16:01.024651",
     "status": "completed"
    },
    "tags": []
   },
   "outputs": [
    {
     "name": "stdout",
     "output_type": "stream",
     "text": [
      "<class 'pandas.core.frame.DataFrame'>\n",
      "RangeIndex: 188533 entries, 0 to 188532\n",
      "Columns: 3603 entries, id to accident_None reported\n",
      "dtypes: bool(3599), int64(4)\n",
      "memory usage: 652.9 MB\n",
      "None\n"
     ]
    }
   ],
   "source": [
    "# Check to ensure the data is now numeric\n",
    "print(train_data.info())\n"
   ]
  },
  {
   "cell_type": "code",
   "execution_count": 16,
   "id": "0c4237ff",
   "metadata": {
    "execution": {
     "iopub.execute_input": "2024-09-13T18:16:01.346360Z",
     "iopub.status.busy": "2024-09-13T18:16:01.345895Z",
     "iopub.status.idle": "2024-09-13T18:16:01.615741Z",
     "shell.execute_reply": "2024-09-13T18:16:01.614444Z"
    },
    "papermill": {
     "duration": 0.289186,
     "end_time": "2024-09-13T18:16:01.618494",
     "exception": false,
     "start_time": "2024-09-13T18:16:01.329308",
     "status": "completed"
    },
    "tags": []
   },
   "outputs": [
    {
     "name": "stdout",
     "output_type": "stream",
     "text": [
      "<class 'pandas.core.frame.DataFrame'>\n",
      "RangeIndex: 125690 entries, 0 to 125689\n",
      "Columns: 3602 entries, id to accident_None reported\n",
      "dtypes: bool(3587), int64(15)\n",
      "memory usage: 444.3 MB\n",
      "None\n"
     ]
    }
   ],
   "source": [
    "print(test_data.info())"
   ]
  },
  {
   "cell_type": "markdown",
   "id": "e645dd1e",
   "metadata": {
    "papermill": {
     "duration": 0.014992,
     "end_time": "2024-09-13T18:16:01.648862",
     "exception": false,
     "start_time": "2024-09-13T18:16:01.633870",
     "status": "completed"
    },
    "tags": []
   },
   "source": [
    "## 3. Feature Engineering\n",
    "\n",
    "`Create additional features (like car age, mileage categories, etc.) to improve model performance`"
   ]
  },
  {
   "cell_type": "code",
   "execution_count": 17,
   "id": "0335a170",
   "metadata": {
    "execution": {
     "iopub.execute_input": "2024-09-13T18:16:01.681196Z",
     "iopub.status.busy": "2024-09-13T18:16:01.680774Z",
     "iopub.status.idle": "2024-09-13T18:16:01.689909Z",
     "shell.execute_reply": "2024-09-13T18:16:01.688826Z"
    },
    "papermill": {
     "duration": 0.028446,
     "end_time": "2024-09-13T18:16:01.692477",
     "exception": false,
     "start_time": "2024-09-13T18:16:01.664031",
     "status": "completed"
    },
    "tags": []
   },
   "outputs": [],
   "source": [
    "# Example: Create a new feature for car age\n",
    "train_data['car_age'] = 2024 - train_data['model_year'] \n",
    "test_data['car_age'] = 2024 - test_data['model_year']\n"
   ]
  },
  {
   "cell_type": "code",
   "execution_count": 18,
   "id": "dc044b79",
   "metadata": {
    "execution": {
     "iopub.execute_input": "2024-09-13T18:16:01.725332Z",
     "iopub.status.busy": "2024-09-13T18:16:01.724864Z",
     "iopub.status.idle": "2024-09-13T18:16:01.732020Z",
     "shell.execute_reply": "2024-09-13T18:16:01.730715Z"
    },
    "papermill": {
     "duration": 0.027081,
     "end_time": "2024-09-13T18:16:01.735037",
     "exception": false,
     "start_time": "2024-09-13T18:16:01.707956",
     "status": "completed"
    },
    "tags": []
   },
   "outputs": [
    {
     "name": "stdout",
     "output_type": "stream",
     "text": [
      "0    17\n",
      "1    22\n",
      "2    22\n",
      "3     7\n",
      "4     3\n",
      "Name: car_age, dtype: int64\n"
     ]
    }
   ],
   "source": [
    "print(train_data['car_age'].head())"
   ]
  },
  {
   "cell_type": "code",
   "execution_count": 19,
   "id": "b413b969",
   "metadata": {
    "execution": {
     "iopub.execute_input": "2024-09-13T18:16:01.770998Z",
     "iopub.status.busy": "2024-09-13T18:16:01.769925Z",
     "iopub.status.idle": "2024-09-13T18:16:02.205178Z",
     "shell.execute_reply": "2024-09-13T18:16:02.204010Z"
    },
    "papermill": {
     "duration": 0.455732,
     "end_time": "2024-09-13T18:16:02.208145",
     "exception": false,
     "start_time": "2024-09-13T18:16:01.752413",
     "status": "completed"
    },
    "tags": []
   },
   "outputs": [],
   "source": [
    "# Drop unnecessary columns like 'year'\n",
    "train_data.drop('model_year', axis=1, inplace=True)\n",
    "test_data.drop('model_year', axis=1, inplace=True)"
   ]
  },
  {
   "cell_type": "markdown",
   "id": "59e688b7",
   "metadata": {
    "papermill": {
     "duration": 0.015333,
     "end_time": "2024-09-13T18:16:02.239269",
     "exception": false,
     "start_time": "2024-09-13T18:16:02.223936",
     "status": "completed"
    },
    "tags": []
   },
   "source": [
    "## 4. Splitting the Data\n",
    "\n",
    "*Split the data into features (**X**) and target (**y**)*"
   ]
  },
  {
   "cell_type": "code",
   "execution_count": 20,
   "id": "53a1f92c",
   "metadata": {
    "execution": {
     "iopub.execute_input": "2024-09-13T18:16:02.272784Z",
     "iopub.status.busy": "2024-09-13T18:16:02.272351Z",
     "iopub.status.idle": "2024-09-13T18:16:02.505863Z",
     "shell.execute_reply": "2024-09-13T18:16:02.504729Z"
    },
    "papermill": {
     "duration": 0.254165,
     "end_time": "2024-09-13T18:16:02.508973",
     "exception": false,
     "start_time": "2024-09-13T18:16:02.254808",
     "status": "completed"
    },
    "tags": []
   },
   "outputs": [],
   "source": [
    "X = train_data.drop(columns=['price', 'id'])  # Drop target and id from features\n",
    "y = train_data['price']"
   ]
  },
  {
   "cell_type": "code",
   "execution_count": 21,
   "id": "8208ebf4",
   "metadata": {
    "execution": {
     "iopub.execute_input": "2024-09-13T18:16:02.541946Z",
     "iopub.status.busy": "2024-09-13T18:16:02.541536Z",
     "iopub.status.idle": "2024-09-13T18:16:02.750924Z",
     "shell.execute_reply": "2024-09-13T18:16:02.749839Z"
    },
    "papermill": {
     "duration": 0.229134,
     "end_time": "2024-09-13T18:16:02.753697",
     "exception": false,
     "start_time": "2024-09-13T18:16:02.524563",
     "status": "completed"
    },
    "tags": []
   },
   "outputs": [],
   "source": [
    "# Prepare the test features (without price column)\n",
    "X_test = test_data.drop(columns=['id'])"
   ]
  },
  {
   "cell_type": "markdown",
   "id": "b2c0d0cc",
   "metadata": {
    "papermill": {
     "duration": 0.016232,
     "end_time": "2024-09-13T18:16:02.785655",
     "exception": false,
     "start_time": "2024-09-13T18:16:02.769423",
     "status": "completed"
    },
    "tags": []
   },
   "source": [
    "## 5. Train-Test Split"
   ]
  },
  {
   "cell_type": "code",
   "execution_count": 22,
   "id": "8740ca37",
   "metadata": {
    "execution": {
     "iopub.execute_input": "2024-09-13T18:16:02.818519Z",
     "iopub.status.busy": "2024-09-13T18:16:02.818058Z",
     "iopub.status.idle": "2024-09-13T18:16:04.360679Z",
     "shell.execute_reply": "2024-09-13T18:16:04.359472Z"
    },
    "papermill": {
     "duration": 1.562521,
     "end_time": "2024-09-13T18:16:04.363520",
     "exception": false,
     "start_time": "2024-09-13T18:16:02.800999",
     "status": "completed"
    },
    "tags": []
   },
   "outputs": [],
   "source": [
    "from sklearn.model_selection import train_test_split\n",
    "\n",
    "X_train, X_val, y_train, y_val = train_test_split(X, y, test_size=0.2, random_state=42)\n"
   ]
  },
  {
   "cell_type": "markdown",
   "id": "3b76d531",
   "metadata": {
    "papermill": {
     "duration": 0.01543,
     "end_time": "2024-09-13T18:16:04.394468",
     "exception": false,
     "start_time": "2024-09-13T18:16:04.379038",
     "status": "completed"
    },
    "tags": []
   },
   "source": [
    "## 6. Model Training\n",
    "\n",
    "- We will use Gradient Boosting or Random Forest, which are typically effective for tabular data. \n",
    "- Let’s use XGBoost for this purpose as it is fast and efficient.\n",
    "\n"
   ]
  },
  {
   "cell_type": "code",
   "execution_count": 23,
   "id": "2a05e248",
   "metadata": {
    "execution": {
     "iopub.execute_input": "2024-09-13T18:16:04.426816Z",
     "iopub.status.busy": "2024-09-13T18:16:04.426407Z",
     "iopub.status.idle": "2024-09-13T18:16:04.626649Z",
     "shell.execute_reply": "2024-09-13T18:16:04.625626Z"
    },
    "papermill": {
     "duration": 0.219752,
     "end_time": "2024-09-13T18:16:04.629449",
     "exception": false,
     "start_time": "2024-09-13T18:16:04.409697",
     "status": "completed"
    },
    "tags": []
   },
   "outputs": [],
   "source": [
    "import xgboost as xgb\n",
    "from sklearn.metrics import mean_squared_error\n",
    "\n",
    "# Initialize XGBoost regressor\n",
    "xgb_model = xgb.XGBRegressor(n_estimators=1000, learning_rate=0.05, max_depth=6, subsample=0.8, colsample_bytree=0.8, random_state=42)"
   ]
  },
  {
   "cell_type": "code",
   "execution_count": 24,
   "id": "f23cca46",
   "metadata": {
    "execution": {
     "iopub.execute_input": "2024-09-13T18:16:04.662560Z",
     "iopub.status.busy": "2024-09-13T18:16:04.662138Z",
     "iopub.status.idle": "2024-09-13T18:25:15.252140Z",
     "shell.execute_reply": "2024-09-13T18:25:15.250706Z"
    },
    "papermill": {
     "duration": 550.6268,
     "end_time": "2024-09-13T18:25:15.272147",
     "exception": false,
     "start_time": "2024-09-13T18:16:04.645347",
     "status": "completed"
    },
    "tags": []
   },
   "outputs": [
    {
     "data": {
      "text/html": [
       "<style>#sk-container-id-1 {color: black;background-color: white;}#sk-container-id-1 pre{padding: 0;}#sk-container-id-1 div.sk-toggleable {background-color: white;}#sk-container-id-1 label.sk-toggleable__label {cursor: pointer;display: block;width: 100%;margin-bottom: 0;padding: 0.3em;box-sizing: border-box;text-align: center;}#sk-container-id-1 label.sk-toggleable__label-arrow:before {content: \"▸\";float: left;margin-right: 0.25em;color: #696969;}#sk-container-id-1 label.sk-toggleable__label-arrow:hover:before {color: black;}#sk-container-id-1 div.sk-estimator:hover label.sk-toggleable__label-arrow:before {color: black;}#sk-container-id-1 div.sk-toggleable__content {max-height: 0;max-width: 0;overflow: hidden;text-align: left;background-color: #f0f8ff;}#sk-container-id-1 div.sk-toggleable__content pre {margin: 0.2em;color: black;border-radius: 0.25em;background-color: #f0f8ff;}#sk-container-id-1 input.sk-toggleable__control:checked~div.sk-toggleable__content {max-height: 200px;max-width: 100%;overflow: auto;}#sk-container-id-1 input.sk-toggleable__control:checked~label.sk-toggleable__label-arrow:before {content: \"▾\";}#sk-container-id-1 div.sk-estimator input.sk-toggleable__control:checked~label.sk-toggleable__label {background-color: #d4ebff;}#sk-container-id-1 div.sk-label input.sk-toggleable__control:checked~label.sk-toggleable__label {background-color: #d4ebff;}#sk-container-id-1 input.sk-hidden--visually {border: 0;clip: rect(1px 1px 1px 1px);clip: rect(1px, 1px, 1px, 1px);height: 1px;margin: -1px;overflow: hidden;padding: 0;position: absolute;width: 1px;}#sk-container-id-1 div.sk-estimator {font-family: monospace;background-color: #f0f8ff;border: 1px dotted black;border-radius: 0.25em;box-sizing: border-box;margin-bottom: 0.5em;}#sk-container-id-1 div.sk-estimator:hover {background-color: #d4ebff;}#sk-container-id-1 div.sk-parallel-item::after {content: \"\";width: 100%;border-bottom: 1px solid gray;flex-grow: 1;}#sk-container-id-1 div.sk-label:hover label.sk-toggleable__label {background-color: #d4ebff;}#sk-container-id-1 div.sk-serial::before {content: \"\";position: absolute;border-left: 1px solid gray;box-sizing: border-box;top: 0;bottom: 0;left: 50%;z-index: 0;}#sk-container-id-1 div.sk-serial {display: flex;flex-direction: column;align-items: center;background-color: white;padding-right: 0.2em;padding-left: 0.2em;position: relative;}#sk-container-id-1 div.sk-item {position: relative;z-index: 1;}#sk-container-id-1 div.sk-parallel {display: flex;align-items: stretch;justify-content: center;background-color: white;position: relative;}#sk-container-id-1 div.sk-item::before, #sk-container-id-1 div.sk-parallel-item::before {content: \"\";position: absolute;border-left: 1px solid gray;box-sizing: border-box;top: 0;bottom: 0;left: 50%;z-index: -1;}#sk-container-id-1 div.sk-parallel-item {display: flex;flex-direction: column;z-index: 1;position: relative;background-color: white;}#sk-container-id-1 div.sk-parallel-item:first-child::after {align-self: flex-end;width: 50%;}#sk-container-id-1 div.sk-parallel-item:last-child::after {align-self: flex-start;width: 50%;}#sk-container-id-1 div.sk-parallel-item:only-child::after {width: 0;}#sk-container-id-1 div.sk-dashed-wrapped {border: 1px dashed gray;margin: 0 0.4em 0.5em 0.4em;box-sizing: border-box;padding-bottom: 0.4em;background-color: white;}#sk-container-id-1 div.sk-label label {font-family: monospace;font-weight: bold;display: inline-block;line-height: 1.2em;}#sk-container-id-1 div.sk-label-container {text-align: center;}#sk-container-id-1 div.sk-container {/* jupyter's `normalize.less` sets `[hidden] { display: none; }` but bootstrap.min.css set `[hidden] { display: none !important; }` so we also need the `!important` here to be able to override the default hidden behavior on the sphinx rendered scikit-learn.org. See: https://github.com/scikit-learn/scikit-learn/issues/21755 */display: inline-block !important;position: relative;}#sk-container-id-1 div.sk-text-repr-fallback {display: none;}</style><div id=\"sk-container-id-1\" class=\"sk-top-container\"><div class=\"sk-text-repr-fallback\"><pre>XGBRegressor(base_score=None, booster=None, callbacks=None,\n",
       "             colsample_bylevel=None, colsample_bynode=None,\n",
       "             colsample_bytree=0.8, device=None, early_stopping_rounds=None,\n",
       "             enable_categorical=False, eval_metric=None, feature_types=None,\n",
       "             gamma=None, grow_policy=None, importance_type=None,\n",
       "             interaction_constraints=None, learning_rate=0.05, max_bin=None,\n",
       "             max_cat_threshold=None, max_cat_to_onehot=None,\n",
       "             max_delta_step=None, max_depth=6, max_leaves=None,\n",
       "             min_child_weight=None, missing=nan, monotone_constraints=None,\n",
       "             multi_strategy=None, n_estimators=1000, n_jobs=None,\n",
       "             num_parallel_tree=None, random_state=42, ...)</pre><b>In a Jupyter environment, please rerun this cell to show the HTML representation or trust the notebook. <br />On GitHub, the HTML representation is unable to render, please try loading this page with nbviewer.org.</b></div><div class=\"sk-container\" hidden><div class=\"sk-item\"><div class=\"sk-estimator sk-toggleable\"><input class=\"sk-toggleable__control sk-hidden--visually\" id=\"sk-estimator-id-1\" type=\"checkbox\" checked><label for=\"sk-estimator-id-1\" class=\"sk-toggleable__label sk-toggleable__label-arrow\">XGBRegressor</label><div class=\"sk-toggleable__content\"><pre>XGBRegressor(base_score=None, booster=None, callbacks=None,\n",
       "             colsample_bylevel=None, colsample_bynode=None,\n",
       "             colsample_bytree=0.8, device=None, early_stopping_rounds=None,\n",
       "             enable_categorical=False, eval_metric=None, feature_types=None,\n",
       "             gamma=None, grow_policy=None, importance_type=None,\n",
       "             interaction_constraints=None, learning_rate=0.05, max_bin=None,\n",
       "             max_cat_threshold=None, max_cat_to_onehot=None,\n",
       "             max_delta_step=None, max_depth=6, max_leaves=None,\n",
       "             min_child_weight=None, missing=nan, monotone_constraints=None,\n",
       "             multi_strategy=None, n_estimators=1000, n_jobs=None,\n",
       "             num_parallel_tree=None, random_state=42, ...)</pre></div></div></div></div></div>"
      ],
      "text/plain": [
       "XGBRegressor(base_score=None, booster=None, callbacks=None,\n",
       "             colsample_bylevel=None, colsample_bynode=None,\n",
       "             colsample_bytree=0.8, device=None, early_stopping_rounds=None,\n",
       "             enable_categorical=False, eval_metric=None, feature_types=None,\n",
       "             gamma=None, grow_policy=None, importance_type=None,\n",
       "             interaction_constraints=None, learning_rate=0.05, max_bin=None,\n",
       "             max_cat_threshold=None, max_cat_to_onehot=None,\n",
       "             max_delta_step=None, max_depth=6, max_leaves=None,\n",
       "             min_child_weight=None, missing=nan, monotone_constraints=None,\n",
       "             multi_strategy=None, n_estimators=1000, n_jobs=None,\n",
       "             num_parallel_tree=None, random_state=42, ...)"
      ]
     },
     "execution_count": 24,
     "metadata": {},
     "output_type": "execute_result"
    }
   ],
   "source": [
    "# Fit the model with early stopping\n",
    "xgb_model.fit(\n",
    "    X_train, \n",
    "    y_train, \n",
    "    eval_set=[(X_val, y_val)],  # Validation set for early stopping\n",
    "    early_stopping_rounds=50,   # Stop if performance doesn't improve after 50 rounds\n",
    "    verbose=False               # Suppress training output\n",
    ")"
   ]
  },
  {
   "cell_type": "code",
   "execution_count": 25,
   "id": "e3a6e5c8",
   "metadata": {
    "execution": {
     "iopub.execute_input": "2024-09-13T18:25:15.307329Z",
     "iopub.status.busy": "2024-09-13T18:25:15.306796Z",
     "iopub.status.idle": "2024-09-13T18:25:33.168751Z",
     "shell.execute_reply": "2024-09-13T18:25:33.167649Z"
    },
    "papermill": {
     "duration": 17.883307,
     "end_time": "2024-09-13T18:25:33.171769",
     "exception": false,
     "start_time": "2024-09-13T18:25:15.288462",
     "status": "completed"
    },
    "tags": []
   },
   "outputs": [],
   "source": [
    "# Make predictions on the validation set\n",
    "y_val_pred = xgb_model.predict(X_val)"
   ]
  },
  {
   "cell_type": "code",
   "execution_count": 26,
   "id": "652b6a84",
   "metadata": {
    "execution": {
     "iopub.execute_input": "2024-09-13T18:25:33.207149Z",
     "iopub.status.busy": "2024-09-13T18:25:33.206488Z",
     "iopub.status.idle": "2024-09-13T18:25:33.218555Z",
     "shell.execute_reply": "2024-09-13T18:25:33.216853Z"
    },
    "papermill": {
     "duration": 0.032395,
     "end_time": "2024-09-13T18:25:33.221265",
     "exception": false,
     "start_time": "2024-09-13T18:25:33.188870",
     "status": "completed"
    },
    "tags": []
   },
   "outputs": [
    {
     "name": "stdout",
     "output_type": "stream",
     "text": [
      "Validation RMSE: 69294.54372656536\n"
     ]
    }
   ],
   "source": [
    "# Calculate RMSE\n",
    "rmse = mean_squared_error(y_val, y_val_pred, squared=False)\n",
    "print(f'Validation RMSE: {rmse}')"
   ]
  },
  {
   "cell_type": "markdown",
   "id": "e92d9481",
   "metadata": {
    "papermill": {
     "duration": 0.016002,
     "end_time": "2024-09-13T18:25:33.253694",
     "exception": false,
     "start_time": "2024-09-13T18:25:33.237692",
     "status": "completed"
    },
    "tags": []
   },
   "source": [
    "## 7. Make Predictions on Test Set"
   ]
  },
  {
   "cell_type": "code",
   "execution_count": 27,
   "id": "a643f1eb",
   "metadata": {
    "execution": {
     "iopub.execute_input": "2024-09-13T18:25:33.288448Z",
     "iopub.status.busy": "2024-09-13T18:25:33.287941Z",
     "iopub.status.idle": "2024-09-13T18:26:31.748017Z",
     "shell.execute_reply": "2024-09-13T18:26:31.746869Z"
    },
    "papermill": {
     "duration": 58.481358,
     "end_time": "2024-09-13T18:26:31.750858",
     "exception": false,
     "start_time": "2024-09-13T18:25:33.269500",
     "status": "completed"
    },
    "tags": []
   },
   "outputs": [],
   "source": [
    "# Make predictions on the test set\n",
    "test_predictions = xgb_model.predict(X_test)"
   ]
  },
  {
   "cell_type": "code",
   "execution_count": 28,
   "id": "15ef94e3",
   "metadata": {
    "execution": {
     "iopub.execute_input": "2024-09-13T18:26:31.786350Z",
     "iopub.status.busy": "2024-09-13T18:26:31.785787Z",
     "iopub.status.idle": "2024-09-13T18:26:31.795069Z",
     "shell.execute_reply": "2024-09-13T18:26:31.793798Z"
    },
    "papermill": {
     "duration": 0.030391,
     "end_time": "2024-09-13T18:26:31.797636",
     "exception": false,
     "start_time": "2024-09-13T18:26:31.767245",
     "status": "completed"
    },
    "tags": []
   },
   "outputs": [
    {
     "data": {
      "text/plain": [
       "array([21629.504, 71963.125, 57056.19 , ..., 23772.69 , 14266.046,\n",
       "       36072.9  ], dtype=float32)"
      ]
     },
     "execution_count": 28,
     "metadata": {},
     "output_type": "execute_result"
    }
   ],
   "source": [
    "test_predictions"
   ]
  },
  {
   "cell_type": "code",
   "execution_count": 29,
   "id": "15ee4a02",
   "metadata": {
    "execution": {
     "iopub.execute_input": "2024-09-13T18:26:31.832041Z",
     "iopub.status.busy": "2024-09-13T18:26:31.831540Z",
     "iopub.status.idle": "2024-09-13T18:26:31.839695Z",
     "shell.execute_reply": "2024-09-13T18:26:31.838421Z"
    },
    "papermill": {
     "duration": 0.029047,
     "end_time": "2024-09-13T18:26:31.842889",
     "exception": false,
     "start_time": "2024-09-13T18:26:31.813842",
     "status": "completed"
    },
    "tags": []
   },
   "outputs": [],
   "source": [
    "# Prepare the submission file\n",
    "submission = pd.DataFrame({'id': test_data['id'], 'price': test_predictions})"
   ]
  },
  {
   "cell_type": "code",
   "execution_count": 30,
   "id": "4964fdac",
   "metadata": {
    "execution": {
     "iopub.execute_input": "2024-09-13T18:26:31.879380Z",
     "iopub.status.busy": "2024-09-13T18:26:31.878898Z",
     "iopub.status.idle": "2024-09-13T18:26:31.893518Z",
     "shell.execute_reply": "2024-09-13T18:26:31.892166Z"
    },
    "papermill": {
     "duration": 0.036174,
     "end_time": "2024-09-13T18:26:31.896350",
     "exception": false,
     "start_time": "2024-09-13T18:26:31.860176",
     "status": "completed"
    },
    "tags": []
   },
   "outputs": [
    {
     "data": {
      "text/html": [
       "<div>\n",
       "<style scoped>\n",
       "    .dataframe tbody tr th:only-of-type {\n",
       "        vertical-align: middle;\n",
       "    }\n",
       "\n",
       "    .dataframe tbody tr th {\n",
       "        vertical-align: top;\n",
       "    }\n",
       "\n",
       "    .dataframe thead th {\n",
       "        text-align: right;\n",
       "    }\n",
       "</style>\n",
       "<table border=\"1\" class=\"dataframe\">\n",
       "  <thead>\n",
       "    <tr style=\"text-align: right;\">\n",
       "      <th></th>\n",
       "      <th>id</th>\n",
       "      <th>price</th>\n",
       "    </tr>\n",
       "  </thead>\n",
       "  <tbody>\n",
       "    <tr>\n",
       "      <th>0</th>\n",
       "      <td>188533</td>\n",
       "      <td>21629.503906</td>\n",
       "    </tr>\n",
       "    <tr>\n",
       "      <th>1</th>\n",
       "      <td>188534</td>\n",
       "      <td>71963.125000</td>\n",
       "    </tr>\n",
       "    <tr>\n",
       "      <th>2</th>\n",
       "      <td>188535</td>\n",
       "      <td>57056.191406</td>\n",
       "    </tr>\n",
       "    <tr>\n",
       "      <th>3</th>\n",
       "      <td>188536</td>\n",
       "      <td>27783.203125</td>\n",
       "    </tr>\n",
       "    <tr>\n",
       "      <th>4</th>\n",
       "      <td>188537</td>\n",
       "      <td>36993.617188</td>\n",
       "    </tr>\n",
       "    <tr>\n",
       "      <th>...</th>\n",
       "      <td>...</td>\n",
       "      <td>...</td>\n",
       "    </tr>\n",
       "    <tr>\n",
       "      <th>125685</th>\n",
       "      <td>314218</td>\n",
       "      <td>24584.654297</td>\n",
       "    </tr>\n",
       "    <tr>\n",
       "      <th>125686</th>\n",
       "      <td>314219</td>\n",
       "      <td>50949.507812</td>\n",
       "    </tr>\n",
       "    <tr>\n",
       "      <th>125687</th>\n",
       "      <td>314220</td>\n",
       "      <td>23772.689453</td>\n",
       "    </tr>\n",
       "    <tr>\n",
       "      <th>125688</th>\n",
       "      <td>314221</td>\n",
       "      <td>14266.045898</td>\n",
       "    </tr>\n",
       "    <tr>\n",
       "      <th>125689</th>\n",
       "      <td>314222</td>\n",
       "      <td>36072.898438</td>\n",
       "    </tr>\n",
       "  </tbody>\n",
       "</table>\n",
       "<p>125690 rows × 2 columns</p>\n",
       "</div>"
      ],
      "text/plain": [
       "            id         price\n",
       "0       188533  21629.503906\n",
       "1       188534  71963.125000\n",
       "2       188535  57056.191406\n",
       "3       188536  27783.203125\n",
       "4       188537  36993.617188\n",
       "...        ...           ...\n",
       "125685  314218  24584.654297\n",
       "125686  314219  50949.507812\n",
       "125687  314220  23772.689453\n",
       "125688  314221  14266.045898\n",
       "125689  314222  36072.898438\n",
       "\n",
       "[125690 rows x 2 columns]"
      ]
     },
     "execution_count": 30,
     "metadata": {},
     "output_type": "execute_result"
    }
   ],
   "source": [
    "submission"
   ]
  },
  {
   "cell_type": "code",
   "execution_count": 31,
   "id": "e3684e42",
   "metadata": {
    "execution": {
     "iopub.execute_input": "2024-09-13T18:26:31.932429Z",
     "iopub.status.busy": "2024-09-13T18:26:31.931973Z",
     "iopub.status.idle": "2024-09-13T18:26:32.236349Z",
     "shell.execute_reply": "2024-09-13T18:26:32.235008Z"
    },
    "papermill": {
     "duration": 0.326222,
     "end_time": "2024-09-13T18:26:32.239625",
     "exception": false,
     "start_time": "2024-09-13T18:26:31.913403",
     "status": "completed"
    },
    "tags": []
   },
   "outputs": [],
   "source": [
    "submission.to_csv('submission.csv', index=False)"
   ]
  },
  {
   "cell_type": "code",
   "execution_count": null,
   "id": "17accf4b",
   "metadata": {
    "papermill": {
     "duration": 0.01713,
     "end_time": "2024-09-13T18:26:32.274279",
     "exception": false,
     "start_time": "2024-09-13T18:26:32.257149",
     "status": "completed"
    },
    "tags": []
   },
   "outputs": [],
   "source": []
  }
 ],
 "metadata": {
  "kaggle": {
   "accelerator": "none",
   "dataSources": [
    {
     "databundleVersionId": 9057646,
     "sourceId": 76728,
     "sourceType": "competition"
    }
   ],
   "dockerImageVersionId": 30761,
   "isGpuEnabled": false,
   "isInternetEnabled": true,
   "language": "python",
   "sourceType": "notebook"
  },
  "kernelspec": {
   "display_name": "Python 3",
   "language": "python",
   "name": "python3"
  },
  "language_info": {
   "codemirror_mode": {
    "name": "ipython",
    "version": 3
   },
   "file_extension": ".py",
   "mimetype": "text/x-python",
   "name": "python",
   "nbconvert_exporter": "python",
   "pygments_lexer": "ipython3",
   "version": "3.10.14"
  },
  "papermill": {
   "default_parameters": {},
   "duration": 641.966648,
   "end_time": "2024-09-13T18:26:33.218728",
   "environment_variables": {},
   "exception": null,
   "input_path": "__notebook__.ipynb",
   "output_path": "__notebook__.ipynb",
   "parameters": {},
   "start_time": "2024-09-13T18:15:51.252080",
   "version": "2.6.0"
  }
 },
 "nbformat": 4,
 "nbformat_minor": 5
}
